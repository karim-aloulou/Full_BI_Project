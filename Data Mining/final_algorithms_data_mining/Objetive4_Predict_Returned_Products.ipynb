{
 "cells": [
  {
   "cell_type": "markdown",
   "metadata": {
    "colab_type": "text",
    "id": "oIKtujtZmtPu"
   },
   "source": [
    "<center>\n",
    "    <img src=\"logo.png\" height=\"300\" width=\"500\"/>\n",
    "        <h1 style='color:#142b5a; font-weight: bold; font-family: Calibri;font-size: 40px; '>  Prediction of Returned Products  </h1>\n",
    "</center>\n",
    "\n",
    "\n",
    " <p style='color:#142b5a; font-weight: bold; font-family: Calibri; font-size:25px;'>🎯 ** Objectives **</p>\n",
    " <br>\n",
    "<div style='color:#142b5a; font-weight: light; font-family: Calibri;'>In this Notebook we will predict the profit with diffrent methods.</div>\n",
    "\n",
    "<p style='color:#142b5a; font-weight: bold; font-family: Calibri; font-size:25px;'>✔️ ** Outline **</p> \n",
    "<br>\n",
    "<a href=\"#import\" style='color:#142b5a; font-weight: light; font-family: Calibri;'> • Importing necessary libraries</a>\n",
    "<br>\n",
    "<br>\n",
    "<a href=\"#clean\" style='color:#142b5a; font-weight: light; font-family: Calibri;'> • Importing the dataset</a>\n",
    "<br>\n",
    "<br>\n",
    "<a href=\"#discover\" style='color:#142b5a; font-weight: light; font-family: Calibri;'> • Exploring the dataset</a>\n",
    "<br>\n",
    "<br>\n",
    "<a href=\"#merge\" style='color:#142b5a; font-weight: light; font-family: Calibri;'> • Merge of Product and divising it to Product and specification Product</a>\n",
    "<br>\n",
    "<br>\n",
    "<a href=\"#drop\" style='color:#142b5a; font-weight: light; font-family: Calibri;'> • Dropping unnecessary features </a>\n",
    "<br>\n",
    "<br>\n",
    "<a href=\"#encode\" style='color:#142b5a; font-weight: light; font-family: Calibri;'>• Encoding the target Returned</a>\n",
    "<br>\n",
    "<br>\n",
    "<a href=\"#smote\" style='color:#142b5a; font-weight: light; font-family: Calibri;'>Balancing the data with SMOT Algorithm</a>\n",
    "<br>\n",
    "<br>\n",
    "<div>\n",
    "    <a href=\"#knn\" style='color:#142b5a; font-weight: light; font-family: Calibri;'>• KNN Model</a>\n",
    "    <br>\n",
    "    <div>\n",
    "        <a href=\"#eval\" style='color:#142b5a; font-weight: light; font-family: Calibri; padding:0 0 0 20px'>- Evaluation of the Model</a>\n",
    "    </div>\n",
    "</div>\n",
    "<br>\n",
    "<div>\n",
    "    <a href=\"#svm\" style='color:#142b5a; font-weight: light; font-family: Calibri;'>• SVM Model</a>\n",
    "    <br>\n",
    "    <div>\n",
    "        <a href=\"#pd\" style='color:#142b5a; font-weight: light; font-family: Calibri; padding:0 0 0 20px'>- Preparing our data</a>\n",
    "        <br>\n",
    "        <a href=\"#svc\" style='color:#142b5a; font-weight: light; font-family: Calibri; padding:0 0 0 20px'>- Support Vector Classifier</a>\n",
    "        <br>\n",
    "        <a href=\"#lk\" style='color:#142b5a; font-weight: light; font-family: Calibri; padding:0 0 0 20px'>- Linear Kernel</a>\n",
    "        <br>\n",
    "<a href=\"#pk\" style='color:#142b5a; font-weight: light; font-family: Calibri;padding:0 0 0 20px'> - Polynomial Kernel</a>\n",
    "        <br>\n",
    "<a href=\"#sk\" style='color:#142b5a; font-weight: light; font-family: Calibri;padding:0 0 0 20px'> - Sigmoid Kernel</a>\n",
    "        <br>\n",
    "<a href=\"#ct\" style='color:#142b5a; font-weight: light; font-family: Calibri;padding:0 0 0 20px'> - Comparative Table</a>\n",
    "    </div>\n",
    "</div>\n",
    "<br>\n",
    "<a href=\"#xgboost\" style='color:#142b5a; font-weight: light; font-family: Calibri;'> • XGBOOST Model</a>\n",
    "<br>\n",
    "<br>\n"
   ]
  },
  {
   "cell_type": "markdown",
   "metadata": {},
   "source": [
    "<div style='font-size:100%;'>\n",
    "    <a id='import'></a>\n",
    "    <h1 style='color: black; font-weight: bold; font-family: Calibri;'>\n",
    "        <center> Importing necessary libraries 📚 </center>\n",
    "    </h1>\n",
    " \n",
    "</div>"
   ]
  },
  {
   "cell_type": "code",
   "execution_count": 1,
   "metadata": {
    "colab": {},
    "colab_type": "code",
    "id": "MXHtEMvJmtPv"
   },
   "outputs": [],
   "source": [
    "import pandas as pd\n",
    "import numpy as np\n",
    "import matplotlib.pyplot as plt\n",
    "from sklearn.svm import SVC\n",
    "import warnings\n",
    "warnings.filterwarnings(\"ignore\")\n",
    "from sklearn.model_selection import train_test_split\n",
    "\n",
    "# Libraries for data visualization\n",
    "import seaborn as sns\n",
    "import plotly.express as px\n",
    "from tqdm.notebook import tqdm\n",
    "import pygrametl\n",
    "from pygrametl.tables import Dimension\n",
    "from pygrametl.tables import FactTable\n",
    "\n",
    "from sklearn.linear_model import LogisticRegression\n",
    "from sklearn.neighbors import KNeighborsClassifier\n",
    "from sklearn.svm import SVC\n",
    "from sklearn.tree import DecisionTreeClassifier\n",
    "from sklearn.metrics import confusion_matrix, classification_report\n",
    "%matplotlib inline\n",
    "\n",
    "\n",
    "import xgboost as xgb\n",
    "import tqdm\n",
    "import hyperopt\n",
    "import sys\n",
    "import scipy\n",
    "\n",
    "import lightgbm\n",
    "#from catboost import Pool, CatBoostClassifier, cv, CatboostIpythonWidget\n",
    "\n",
    "from datetime import datetime\n",
    "from sklearn.preprocessing import LabelEncoder\n",
    "# sklearn.cross_validation import cross_val_score, KFold\n",
    "from sklearn.metrics import log_loss\n",
    "from sklearn.model_selection  import train_test_split\n",
    "from sklearn.metrics import confusion_matrix\n",
    "from sklearn.metrics import roc_curve\n",
    "from sklearn.metrics import accuracy_score\n",
    "from IPython.display import display, HTML\n",
    "\n",
    "\n",
    "\n",
    "#!pip install -U imbalanced-learn\n"
   ]
  },
  {
   "cell_type": "code",
   "execution_count": 2,
   "metadata": {},
   "outputs": [],
   "source": [
    "import pyodbc \n",
    "conn2 = pyodbc.connect('Driver={SQL Server};'\n",
    "                      'Server=YOSR;'\n",
    "                      'Database=DW_projet;'\n",
    "                      'Trusted_Connection=yes;')\n",
    "\n",
    "cursor2 = pygrametl.ConnectionWrapper(connection=conn2)"
   ]
  },
  {
   "cell_type": "code",
   "execution_count": 3,
   "metadata": {},
   "outputs": [],
   "source": [
    "# Suppress all warnings\n",
    "import warnings\n",
    "warnings.filterwarnings(\"ignore\")"
   ]
  },
  {
   "cell_type": "code",
   "execution_count": 4,
   "metadata": {},
   "outputs": [],
   "source": [
    "%matplotlib inline\n",
    "\n",
    "pd.set_option('display.max_rows', 100)\n",
    "pd.set_option('display.max_columns', 100)\n",
    "pd.set_option('display.float_format', lambda x: '%.2f' % x)"
   ]
  },
  {
   "cell_type": "markdown",
   "metadata": {},
   "source": [
    "<div style='font-size:100%;'>\n",
    "    <a id='clean'></a>\n",
    "    <h1 style='color: black; font-weight: bold; font-family: Calibri;'>\n",
    "        <center> Importing the dataset ⬇️ </center>\n",
    "    </h1>\n",
    "</div>"
   ]
  },
  {
   "cell_type": "code",
   "execution_count": 5,
   "metadata": {},
   "outputs": [],
   "source": [
    "#Importing the table Fact Sales\n",
    "SQL_Query = pd.read_sql_query('''select * FROM DW_Projet.dbo.FactSales''', conn2)\n",
    "data = pd.DataFrame(SQL_Query)\n",
    "\n",
    "#Importing the table DimProduct\n",
    "SQL_Query = pd.read_sql_query('''select Product_PK,[Product Name] FROM DW_Projet.dbo.DimProduct''', conn2)\n",
    "dimProduct = pd.DataFrame(SQL_Query)"
   ]
  },
  {
   "cell_type": "markdown",
   "metadata": {},
   "source": [
    "<div style='font-size:100%;'>\n",
    "    <a id='discover'></a>\n",
    "    <h1 style='color: black; font-weight: bold; font-family: Calibri;'>\n",
    "        <center> Exploring the dataset 🧐 </center>\n",
    "    </h1>\n",
    "</div>"
   ]
  },
  {
   "cell_type": "code",
   "execution_count": 6,
   "metadata": {},
   "outputs": [
    {
     "data": {
      "text/html": [
       "<div>\n",
       "<style scoped>\n",
       "    .dataframe tbody tr th:only-of-type {\n",
       "        vertical-align: middle;\n",
       "    }\n",
       "\n",
       "    .dataframe tbody tr th {\n",
       "        vertical-align: top;\n",
       "    }\n",
       "\n",
       "    .dataframe thead th {\n",
       "        text-align: right;\n",
       "    }\n",
       "</style>\n",
       "<table border=\"1\" class=\"dataframe\">\n",
       "  <thead>\n",
       "    <tr style=\"text-align: right;\">\n",
       "      <th></th>\n",
       "      <th>FK_Customer</th>\n",
       "      <th>FK_Product</th>\n",
       "      <th>FK_Ship</th>\n",
       "      <th>FK_Date_Order</th>\n",
       "      <th>FK_Date_Ship</th>\n",
       "      <th>FK_Order</th>\n",
       "      <th>FK_Localisation</th>\n",
       "      <th>Quantity</th>\n",
       "      <th>Profit</th>\n",
       "      <th>Sales</th>\n",
       "      <th>Discount</th>\n",
       "      <th>Returned</th>\n",
       "      <th>Ship_Coast</th>\n",
       "      <th>Ship_Duration</th>\n",
       "    </tr>\n",
       "  </thead>\n",
       "  <tbody>\n",
       "    <tr>\n",
       "      <th>0</th>\n",
       "      <td>87077</td>\n",
       "      <td>129300</td>\n",
       "      <td>5</td>\n",
       "      <td>20120703</td>\n",
       "      <td>20120706</td>\n",
       "      <td>138136</td>\n",
       "      <td>43619</td>\n",
       "      <td>7</td>\n",
       "      <td>-4.21</td>\n",
       "      <td>44.93</td>\n",
       "      <td>0.45</td>\n",
       "      <td>NO</td>\n",
       "      <td>6.91</td>\n",
       "      <td>3</td>\n",
       "    </tr>\n",
       "    <tr>\n",
       "      <th>1</th>\n",
       "      <td>87077</td>\n",
       "      <td>129335</td>\n",
       "      <td>8</td>\n",
       "      <td>20150107</td>\n",
       "      <td>20150111</td>\n",
       "      <td>139183</td>\n",
       "      <td>37958</td>\n",
       "      <td>5</td>\n",
       "      <td>-10.44</td>\n",
       "      <td>23.76</td>\n",
       "      <td>0.45</td>\n",
       "      <td>NO</td>\n",
       "      <td>2.84</td>\n",
       "      <td>4</td>\n",
       "    </tr>\n",
       "    <tr>\n",
       "      <th>2</th>\n",
       "      <td>87077</td>\n",
       "      <td>130106</td>\n",
       "      <td>5</td>\n",
       "      <td>20120703</td>\n",
       "      <td>20120706</td>\n",
       "      <td>138136</td>\n",
       "      <td>43619</td>\n",
       "      <td>2</td>\n",
       "      <td>-23.53</td>\n",
       "      <td>51.71</td>\n",
       "      <td>0.45</td>\n",
       "      <td>NO</td>\n",
       "      <td>1.77</td>\n",
       "      <td>3</td>\n",
       "    </tr>\n",
       "    <tr>\n",
       "      <th>3</th>\n",
       "      <td>87077</td>\n",
       "      <td>130138</td>\n",
       "      <td>5</td>\n",
       "      <td>20120703</td>\n",
       "      <td>20120706</td>\n",
       "      <td>138136</td>\n",
       "      <td>43619</td>\n",
       "      <td>13</td>\n",
       "      <td>-141.96</td>\n",
       "      <td>278.85</td>\n",
       "      <td>0.45</td>\n",
       "      <td>NO</td>\n",
       "      <td>30.01</td>\n",
       "      <td>3</td>\n",
       "    </tr>\n",
       "    <tr>\n",
       "      <th>4</th>\n",
       "      <td>87077</td>\n",
       "      <td>130433</td>\n",
       "      <td>5</td>\n",
       "      <td>20120703</td>\n",
       "      <td>20120706</td>\n",
       "      <td>138136</td>\n",
       "      <td>43619</td>\n",
       "      <td>1</td>\n",
       "      <td>-8.53</td>\n",
       "      <td>29.24</td>\n",
       "      <td>0.45</td>\n",
       "      <td>NO</td>\n",
       "      <td>6.66</td>\n",
       "      <td>3</td>\n",
       "    </tr>\n",
       "    <tr>\n",
       "      <th>5</th>\n",
       "      <td>87077</td>\n",
       "      <td>130645</td>\n",
       "      <td>8</td>\n",
       "      <td>20150107</td>\n",
       "      <td>20150111</td>\n",
       "      <td>139183</td>\n",
       "      <td>37958</td>\n",
       "      <td>3</td>\n",
       "      <td>35.62</td>\n",
       "      <td>116.17</td>\n",
       "      <td>0.25</td>\n",
       "      <td>NO</td>\n",
       "      <td>10.44</td>\n",
       "      <td>4</td>\n",
       "    </tr>\n",
       "    <tr>\n",
       "      <th>6</th>\n",
       "      <td>87078</td>\n",
       "      <td>127444</td>\n",
       "      <td>8</td>\n",
       "      <td>20130516</td>\n",
       "      <td>20130521</td>\n",
       "      <td>134556</td>\n",
       "      <td>44960</td>\n",
       "      <td>7</td>\n",
       "      <td>27.09</td>\n",
       "      <td>2713.41</td>\n",
       "      <td>0.00</td>\n",
       "      <td>NO</td>\n",
       "      <td>167.35</td>\n",
       "      <td>5</td>\n",
       "    </tr>\n",
       "  </tbody>\n",
       "</table>\n",
       "</div>"
      ],
      "text/plain": [
       "   FK_Customer  FK_Product  FK_Ship  FK_Date_Order  FK_Date_Ship  FK_Order  \\\n",
       "0        87077      129300        5       20120703      20120706    138136   \n",
       "1        87077      129335        8       20150107      20150111    139183   \n",
       "2        87077      130106        5       20120703      20120706    138136   \n",
       "3        87077      130138        5       20120703      20120706    138136   \n",
       "4        87077      130433        5       20120703      20120706    138136   \n",
       "5        87077      130645        8       20150107      20150111    139183   \n",
       "6        87078      127444        8       20130516      20130521    134556   \n",
       "\n",
       "   FK_Localisation  Quantity  Profit   Sales  Discount Returned  Ship_Coast  \\\n",
       "0            43619         7   -4.21   44.93      0.45       NO        6.91   \n",
       "1            37958         5  -10.44   23.76      0.45       NO        2.84   \n",
       "2            43619         2  -23.53   51.71      0.45       NO        1.77   \n",
       "3            43619        13 -141.96  278.85      0.45       NO       30.01   \n",
       "4            43619         1   -8.53   29.24      0.45       NO        6.66   \n",
       "5            37958         3   35.62  116.17      0.25       NO       10.44   \n",
       "6            44960         7   27.09 2713.41      0.00       NO      167.35   \n",
       "\n",
       "   Ship_Duration  \n",
       "0              3  \n",
       "1              4  \n",
       "2              3  \n",
       "3              3  \n",
       "4              3  \n",
       "5              4  \n",
       "6              5  "
      ]
     },
     "execution_count": 6,
     "metadata": {},
     "output_type": "execute_result"
    }
   ],
   "source": [
    "data.shape\n",
    "data.head(7)"
   ]
  },
  {
   "cell_type": "markdown",
   "metadata": {},
   "source": [
    "<div style='font-size:100%;'>\n",
    "    <a id='merge'></a>\n",
    "    <h1 style='color: black; font-weight: bold; font-family: Calibri;'>\n",
    "        <center> Merge of Product and divising it to Product and specification Product ⬇️ </center>\n",
    "    </h1>\n",
    "</div>"
   ]
  },
  {
   "cell_type": "code",
   "execution_count": 7,
   "metadata": {},
   "outputs": [
    {
     "data": {
      "text/html": [
       "<div>\n",
       "<style scoped>\n",
       "    .dataframe tbody tr th:only-of-type {\n",
       "        vertical-align: middle;\n",
       "    }\n",
       "\n",
       "    .dataframe tbody tr th {\n",
       "        vertical-align: top;\n",
       "    }\n",
       "\n",
       "    .dataframe thead th {\n",
       "        text-align: right;\n",
       "    }\n",
       "</style>\n",
       "<table border=\"1\" class=\"dataframe\">\n",
       "  <thead>\n",
       "    <tr style=\"text-align: right;\">\n",
       "      <th></th>\n",
       "      <th>Product_PK</th>\n",
       "      <th>Product Name</th>\n",
       "    </tr>\n",
       "  </thead>\n",
       "  <tbody>\n",
       "    <tr>\n",
       "      <th>0</th>\n",
       "      <td>127283</td>\n",
       "      <td>Atlantic Metals Mobile 2-Shelf Bookcases, Cust...</td>\n",
       "    </tr>\n",
       "    <tr>\n",
       "      <th>1</th>\n",
       "      <td>127284</td>\n",
       "      <td>Atlantic Metals Mobile 3-Shelf Bookcases, Cust...</td>\n",
       "    </tr>\n",
       "    <tr>\n",
       "      <th>2</th>\n",
       "      <td>127285</td>\n",
       "      <td>Atlantic Metals Mobile 4-Shelf Bookcases, Cust...</td>\n",
       "    </tr>\n",
       "    <tr>\n",
       "      <th>3</th>\n",
       "      <td>127286</td>\n",
       "      <td>Atlantic Metals Mobile 5-Shelf Bookcases, Cust...</td>\n",
       "    </tr>\n",
       "    <tr>\n",
       "      <th>4</th>\n",
       "      <td>127287</td>\n",
       "      <td>Bestar Classic Bookcase</td>\n",
       "    </tr>\n",
       "    <tr>\n",
       "      <th>...</th>\n",
       "      <td>...</td>\n",
       "      <td>...</td>\n",
       "    </tr>\n",
       "    <tr>\n",
       "      <th>3783</th>\n",
       "      <td>131066</td>\n",
       "      <td>Wilson Electronics DB Pro Signal Booster</td>\n",
       "    </tr>\n",
       "    <tr>\n",
       "      <th>3784</th>\n",
       "      <td>131067</td>\n",
       "      <td>Wilson SignalBoost 841262 DB PRO Amplifier Kit</td>\n",
       "    </tr>\n",
       "    <tr>\n",
       "      <th>3785</th>\n",
       "      <td>131068</td>\n",
       "      <td>Wireless Extenders zBoost YX545 SOHO Signal Bo...</td>\n",
       "    </tr>\n",
       "    <tr>\n",
       "      <th>3786</th>\n",
       "      <td>131069</td>\n",
       "      <td>Xblue XB-1670-86 X16 Small Office Telephone - ...</td>\n",
       "    </tr>\n",
       "    <tr>\n",
       "      <th>3787</th>\n",
       "      <td>131070</td>\n",
       "      <td>Xiaomi Mi3</td>\n",
       "    </tr>\n",
       "  </tbody>\n",
       "</table>\n",
       "<p>3788 rows × 2 columns</p>\n",
       "</div>"
      ],
      "text/plain": [
       "      Product_PK                                       Product Name\n",
       "0         127283  Atlantic Metals Mobile 2-Shelf Bookcases, Cust...\n",
       "1         127284  Atlantic Metals Mobile 3-Shelf Bookcases, Cust...\n",
       "2         127285  Atlantic Metals Mobile 4-Shelf Bookcases, Cust...\n",
       "3         127286  Atlantic Metals Mobile 5-Shelf Bookcases, Cust...\n",
       "4         127287                            Bestar Classic Bookcase\n",
       "...          ...                                                ...\n",
       "3783      131066           Wilson Electronics DB Pro Signal Booster\n",
       "3784      131067     Wilson SignalBoost 841262 DB PRO Amplifier Kit\n",
       "3785      131068  Wireless Extenders zBoost YX545 SOHO Signal Bo...\n",
       "3786      131069  Xblue XB-1670-86 X16 Small Office Telephone - ...\n",
       "3787      131070                                         Xiaomi Mi3\n",
       "\n",
       "[3788 rows x 2 columns]"
      ]
     },
     "execution_count": 7,
     "metadata": {},
     "output_type": "execute_result"
    }
   ],
   "source": [
    "dimProduct"
   ]
  },
  {
   "cell_type": "code",
   "execution_count": 8,
   "metadata": {},
   "outputs": [],
   "source": [
    "dimProduct=dimProduct.rename(columns={'Product_PK':'FK_Product'} )\n",
    "data['FK_Product']=pd.merge(data,dimProduct,on='FK_Product',how='left')['Product Name']"
   ]
  },
  {
   "cell_type": "code",
   "execution_count": 9,
   "metadata": {},
   "outputs": [
    {
     "data": {
      "text/html": [
       "<div>\n",
       "<style scoped>\n",
       "    .dataframe tbody tr th:only-of-type {\n",
       "        vertical-align: middle;\n",
       "    }\n",
       "\n",
       "    .dataframe tbody tr th {\n",
       "        vertical-align: top;\n",
       "    }\n",
       "\n",
       "    .dataframe thead th {\n",
       "        text-align: right;\n",
       "    }\n",
       "</style>\n",
       "<table border=\"1\" class=\"dataframe\">\n",
       "  <thead>\n",
       "    <tr style=\"text-align: right;\">\n",
       "      <th></th>\n",
       "      <th>FK_Customer</th>\n",
       "      <th>FK_Product</th>\n",
       "      <th>FK_Ship</th>\n",
       "      <th>FK_Date_Order</th>\n",
       "      <th>FK_Date_Ship</th>\n",
       "      <th>FK_Order</th>\n",
       "      <th>FK_Localisation</th>\n",
       "      <th>Quantity</th>\n",
       "      <th>Profit</th>\n",
       "      <th>Sales</th>\n",
       "      <th>Discount</th>\n",
       "      <th>Returned</th>\n",
       "      <th>Ship_Coast</th>\n",
       "      <th>Ship_Duration</th>\n",
       "      <th>Product</th>\n",
       "      <th>ProductSpecification</th>\n",
       "    </tr>\n",
       "  </thead>\n",
       "  <tbody>\n",
       "    <tr>\n",
       "      <th>0</th>\n",
       "      <td>87077</td>\n",
       "      <td>Avery Shipping Labels, Alphabetical</td>\n",
       "      <td>5</td>\n",
       "      <td>20120703</td>\n",
       "      <td>20120706</td>\n",
       "      <td>138136</td>\n",
       "      <td>43619</td>\n",
       "      <td>7</td>\n",
       "      <td>-4.21</td>\n",
       "      <td>44.93</td>\n",
       "      <td>0.45</td>\n",
       "      <td>NO</td>\n",
       "      <td>6.91</td>\n",
       "      <td>3</td>\n",
       "      <td>Avery Shipping Labels</td>\n",
       "      <td>Alphabetical</td>\n",
       "    </tr>\n",
       "    <tr>\n",
       "      <th>1</th>\n",
       "      <td>87077</td>\n",
       "      <td>Hon File Folder Labels, Laser Printer Compatible</td>\n",
       "      <td>8</td>\n",
       "      <td>20150107</td>\n",
       "      <td>20150111</td>\n",
       "      <td>139183</td>\n",
       "      <td>37958</td>\n",
       "      <td>5</td>\n",
       "      <td>-10.44</td>\n",
       "      <td>23.76</td>\n",
       "      <td>0.45</td>\n",
       "      <td>NO</td>\n",
       "      <td>2.84</td>\n",
       "      <td>4</td>\n",
       "      <td>Hon File Folder Labels</td>\n",
       "      <td>Laser Printer Compatible</td>\n",
       "    </tr>\n",
       "    <tr>\n",
       "      <th>2</th>\n",
       "      <td>87077</td>\n",
       "      <td>Elite Shears, High Speed</td>\n",
       "      <td>5</td>\n",
       "      <td>20120703</td>\n",
       "      <td>20120706</td>\n",
       "      <td>138136</td>\n",
       "      <td>43619</td>\n",
       "      <td>2</td>\n",
       "      <td>-23.53</td>\n",
       "      <td>51.71</td>\n",
       "      <td>0.45</td>\n",
       "      <td>NO</td>\n",
       "      <td>1.77</td>\n",
       "      <td>3</td>\n",
       "      <td>Elite Shears</td>\n",
       "      <td>High Speed</td>\n",
       "    </tr>\n",
       "    <tr>\n",
       "      <th>3</th>\n",
       "      <td>87077</td>\n",
       "      <td>Fiskars Trimmer, Serrated</td>\n",
       "      <td>5</td>\n",
       "      <td>20120703</td>\n",
       "      <td>20120706</td>\n",
       "      <td>138136</td>\n",
       "      <td>43619</td>\n",
       "      <td>13</td>\n",
       "      <td>-141.96</td>\n",
       "      <td>278.85</td>\n",
       "      <td>0.45</td>\n",
       "      <td>NO</td>\n",
       "      <td>30.01</td>\n",
       "      <td>3</td>\n",
       "      <td>Fiskars Trimmer</td>\n",
       "      <td>Serrated</td>\n",
       "    </tr>\n",
       "    <tr>\n",
       "      <th>4</th>\n",
       "      <td>87077</td>\n",
       "      <td>SanDisk Numeric Keypad, USB</td>\n",
       "      <td>5</td>\n",
       "      <td>20120703</td>\n",
       "      <td>20120706</td>\n",
       "      <td>138136</td>\n",
       "      <td>43619</td>\n",
       "      <td>1</td>\n",
       "      <td>-8.53</td>\n",
       "      <td>29.24</td>\n",
       "      <td>0.45</td>\n",
       "      <td>NO</td>\n",
       "      <td>6.66</td>\n",
       "      <td>3</td>\n",
       "      <td>SanDisk Numeric Keypad</td>\n",
       "      <td>USB</td>\n",
       "    </tr>\n",
       "  </tbody>\n",
       "</table>\n",
       "</div>"
      ],
      "text/plain": [
       "   FK_Customer                                        FK_Product  FK_Ship  \\\n",
       "0        87077               Avery Shipping Labels, Alphabetical        5   \n",
       "1        87077  Hon File Folder Labels, Laser Printer Compatible        8   \n",
       "2        87077                          Elite Shears, High Speed        5   \n",
       "3        87077                         Fiskars Trimmer, Serrated        5   \n",
       "4        87077                       SanDisk Numeric Keypad, USB        5   \n",
       "\n",
       "   FK_Date_Order  FK_Date_Ship  FK_Order  FK_Localisation  Quantity  Profit  \\\n",
       "0       20120703      20120706    138136            43619         7   -4.21   \n",
       "1       20150107      20150111    139183            37958         5  -10.44   \n",
       "2       20120703      20120706    138136            43619         2  -23.53   \n",
       "3       20120703      20120706    138136            43619        13 -141.96   \n",
       "4       20120703      20120706    138136            43619         1   -8.53   \n",
       "\n",
       "   Sales  Discount Returned  Ship_Coast  Ship_Duration  \\\n",
       "0  44.93      0.45       NO        6.91              3   \n",
       "1  23.76      0.45       NO        2.84              4   \n",
       "2  51.71      0.45       NO        1.77              3   \n",
       "3 278.85      0.45       NO       30.01              3   \n",
       "4  29.24      0.45       NO        6.66              3   \n",
       "\n",
       "                  Product       ProductSpecification  \n",
       "0   Avery Shipping Labels               Alphabetical  \n",
       "1  Hon File Folder Labels   Laser Printer Compatible  \n",
       "2            Elite Shears                 High Speed  \n",
       "3         Fiskars Trimmer                   Serrated  \n",
       "4  SanDisk Numeric Keypad                        USB  "
      ]
     },
     "execution_count": 9,
     "metadata": {},
     "output_type": "execute_result"
    }
   ],
   "source": [
    "# Extracting Product from FK_Product\n",
    "data['Product'] = data['FK_Product'].str.split(',').str[0]\n",
    "\n",
    "# Extracting Month from FK_Product\n",
    "data['ProductSpecification'] = data['FK_Product'].str.split(',').str[1]\n",
    "\n",
    "\n",
    "data.head()"
   ]
  },
  {
   "cell_type": "code",
   "execution_count": 10,
   "metadata": {},
   "outputs": [
    {
     "data": {
      "text/html": [
       "<div>\n",
       "<style scoped>\n",
       "    .dataframe tbody tr th:only-of-type {\n",
       "        vertical-align: middle;\n",
       "    }\n",
       "\n",
       "    .dataframe tbody tr th {\n",
       "        vertical-align: top;\n",
       "    }\n",
       "\n",
       "    .dataframe thead th {\n",
       "        text-align: right;\n",
       "    }\n",
       "</style>\n",
       "<table border=\"1\" class=\"dataframe\">\n",
       "  <thead>\n",
       "    <tr style=\"text-align: right;\">\n",
       "      <th></th>\n",
       "      <th>FK_Customer</th>\n",
       "      <th>FK_Product</th>\n",
       "      <th>FK_Ship</th>\n",
       "      <th>FK_Date_Order</th>\n",
       "      <th>FK_Date_Ship</th>\n",
       "      <th>FK_Order</th>\n",
       "      <th>FK_Localisation</th>\n",
       "      <th>Quantity</th>\n",
       "      <th>Profit</th>\n",
       "      <th>Sales</th>\n",
       "      <th>Discount</th>\n",
       "      <th>Returned</th>\n",
       "      <th>Ship_Coast</th>\n",
       "      <th>Ship_Duration</th>\n",
       "      <th>Product</th>\n",
       "      <th>ProductSpecification</th>\n",
       "    </tr>\n",
       "  </thead>\n",
       "  <tbody>\n",
       "    <tr>\n",
       "      <th>count</th>\n",
       "      <td>51251.00</td>\n",
       "      <td>51251</td>\n",
       "      <td>51251.00</td>\n",
       "      <td>51251.00</td>\n",
       "      <td>51251.00</td>\n",
       "      <td>51251.00</td>\n",
       "      <td>51251.00</td>\n",
       "      <td>51251.00</td>\n",
       "      <td>51251.00</td>\n",
       "      <td>51251.00</td>\n",
       "      <td>51251.00</td>\n",
       "      <td>51251</td>\n",
       "      <td>51251.00</td>\n",
       "      <td>51251.00</td>\n",
       "      <td>51251</td>\n",
       "      <td>43488</td>\n",
       "    </tr>\n",
       "    <tr>\n",
       "      <th>unique</th>\n",
       "      <td>NaN</td>\n",
       "      <td>3788</td>\n",
       "      <td>NaN</td>\n",
       "      <td>NaN</td>\n",
       "      <td>NaN</td>\n",
       "      <td>NaN</td>\n",
       "      <td>NaN</td>\n",
       "      <td>NaN</td>\n",
       "      <td>NaN</td>\n",
       "      <td>NaN</td>\n",
       "      <td>NaN</td>\n",
       "      <td>2</td>\n",
       "      <td>NaN</td>\n",
       "      <td>NaN</td>\n",
       "      <td>2287</td>\n",
       "      <td>333</td>\n",
       "    </tr>\n",
       "    <tr>\n",
       "      <th>top</th>\n",
       "      <td>NaN</td>\n",
       "      <td>Staples</td>\n",
       "      <td>NaN</td>\n",
       "      <td>NaN</td>\n",
       "      <td>NaN</td>\n",
       "      <td>NaN</td>\n",
       "      <td>NaN</td>\n",
       "      <td>NaN</td>\n",
       "      <td>NaN</td>\n",
       "      <td>NaN</td>\n",
       "      <td>NaN</td>\n",
       "      <td>NO</td>\n",
       "      <td>NaN</td>\n",
       "      <td>NaN</td>\n",
       "      <td>Staples</td>\n",
       "      <td>Recycled</td>\n",
       "    </tr>\n",
       "    <tr>\n",
       "      <th>freq</th>\n",
       "      <td>NaN</td>\n",
       "      <td>222</td>\n",
       "      <td>NaN</td>\n",
       "      <td>NaN</td>\n",
       "      <td>NaN</td>\n",
       "      <td>NaN</td>\n",
       "      <td>NaN</td>\n",
       "      <td>NaN</td>\n",
       "      <td>NaN</td>\n",
       "      <td>NaN</td>\n",
       "      <td>NaN</td>\n",
       "      <td>49033</td>\n",
       "      <td>NaN</td>\n",
       "      <td>NaN</td>\n",
       "      <td>222</td>\n",
       "      <td>2085</td>\n",
       "    </tr>\n",
       "    <tr>\n",
       "      <th>mean</th>\n",
       "      <td>95803.32</td>\n",
       "      <td>NaN</td>\n",
       "      <td>7.25</td>\n",
       "      <td>20138540.15</td>\n",
       "      <td>20138681.30</td>\n",
       "      <td>141584.61</td>\n",
       "      <td>43034.15</td>\n",
       "      <td>3.48</td>\n",
       "      <td>28.59</td>\n",
       "      <td>246.47</td>\n",
       "      <td>0.14</td>\n",
       "      <td>NaN</td>\n",
       "      <td>26.48</td>\n",
       "      <td>3.97</td>\n",
       "      <td>NaN</td>\n",
       "      <td>NaN</td>\n",
       "    </tr>\n",
       "    <tr>\n",
       "      <th>std</th>\n",
       "      <td>5032.61</td>\n",
       "      <td>NaN</td>\n",
       "      <td>1.08</td>\n",
       "      <td>10990.31</td>\n",
       "      <td>11055.42</td>\n",
       "      <td>7431.76</td>\n",
       "      <td>3202.26</td>\n",
       "      <td>2.28</td>\n",
       "      <td>174.37</td>\n",
       "      <td>487.60</td>\n",
       "      <td>0.21</td>\n",
       "      <td>NaN</td>\n",
       "      <td>57.26</td>\n",
       "      <td>1.73</td>\n",
       "      <td>NaN</td>\n",
       "      <td>NaN</td>\n",
       "    </tr>\n",
       "    <tr>\n",
       "      <th>min</th>\n",
       "      <td>87077.00</td>\n",
       "      <td>NaN</td>\n",
       "      <td>5.00</td>\n",
       "      <td>20120101.00</td>\n",
       "      <td>20120103.00</td>\n",
       "      <td>128641.00</td>\n",
       "      <td>37211.00</td>\n",
       "      <td>1.00</td>\n",
       "      <td>-6599.98</td>\n",
       "      <td>0.44</td>\n",
       "      <td>0.00</td>\n",
       "      <td>NaN</td>\n",
       "      <td>1.00</td>\n",
       "      <td>0.00</td>\n",
       "      <td>NaN</td>\n",
       "      <td>NaN</td>\n",
       "    </tr>\n",
       "    <tr>\n",
       "      <th>25%</th>\n",
       "      <td>91455.00</td>\n",
       "      <td>NaN</td>\n",
       "      <td>7.00</td>\n",
       "      <td>20130619.00</td>\n",
       "      <td>20130623.00</td>\n",
       "      <td>135176.50</td>\n",
       "      <td>40157.00</td>\n",
       "      <td>2.00</td>\n",
       "      <td>0.00</td>\n",
       "      <td>30.74</td>\n",
       "      <td>0.00</td>\n",
       "      <td>NaN</td>\n",
       "      <td>2.61</td>\n",
       "      <td>3.00</td>\n",
       "      <td>NaN</td>\n",
       "      <td>NaN</td>\n",
       "    </tr>\n",
       "    <tr>\n",
       "      <th>50%</th>\n",
       "      <td>95800.00</td>\n",
       "      <td>NaN</td>\n",
       "      <td>8.00</td>\n",
       "      <td>20140708.00</td>\n",
       "      <td>20140712.00</td>\n",
       "      <td>141613.00</td>\n",
       "      <td>43280.00</td>\n",
       "      <td>3.00</td>\n",
       "      <td>9.24</td>\n",
       "      <td>85.06</td>\n",
       "      <td>0.00</td>\n",
       "      <td>NaN</td>\n",
       "      <td>7.79</td>\n",
       "      <td>4.00</td>\n",
       "      <td>NaN</td>\n",
       "      <td>NaN</td>\n",
       "    </tr>\n",
       "    <tr>\n",
       "      <th>75%</th>\n",
       "      <td>100192.00</td>\n",
       "      <td>NaN</td>\n",
       "      <td>8.00</td>\n",
       "      <td>20150522.00</td>\n",
       "      <td>20150526.00</td>\n",
       "      <td>148048.50</td>\n",
       "      <td>45809.00</td>\n",
       "      <td>5.00</td>\n",
       "      <td>36.81</td>\n",
       "      <td>251.01</td>\n",
       "      <td>0.20</td>\n",
       "      <td>NaN</td>\n",
       "      <td>24.45</td>\n",
       "      <td>5.00</td>\n",
       "      <td>NaN</td>\n",
       "      <td>NaN</td>\n",
       "    </tr>\n",
       "    <tr>\n",
       "      <th>max</th>\n",
       "      <td>104491.00</td>\n",
       "      <td>NaN</td>\n",
       "      <td>8.00</td>\n",
       "      <td>20151231.00</td>\n",
       "      <td>20160107.00</td>\n",
       "      <td>154368.00</td>\n",
       "      <td>48692.00</td>\n",
       "      <td>14.00</td>\n",
       "      <td>8399.98</td>\n",
       "      <td>22638.48</td>\n",
       "      <td>0.85</td>\n",
       "      <td>NaN</td>\n",
       "      <td>933.57</td>\n",
       "      <td>7.00</td>\n",
       "      <td>NaN</td>\n",
       "      <td>NaN</td>\n",
       "    </tr>\n",
       "  </tbody>\n",
       "</table>\n",
       "</div>"
      ],
      "text/plain": [
       "        FK_Customer FK_Product  FK_Ship  FK_Date_Order  FK_Date_Ship  \\\n",
       "count      51251.00      51251 51251.00       51251.00      51251.00   \n",
       "unique          NaN       3788      NaN            NaN           NaN   \n",
       "top             NaN    Staples      NaN            NaN           NaN   \n",
       "freq            NaN        222      NaN            NaN           NaN   \n",
       "mean       95803.32        NaN     7.25    20138540.15   20138681.30   \n",
       "std         5032.61        NaN     1.08       10990.31      11055.42   \n",
       "min        87077.00        NaN     5.00    20120101.00   20120103.00   \n",
       "25%        91455.00        NaN     7.00    20130619.00   20130623.00   \n",
       "50%        95800.00        NaN     8.00    20140708.00   20140712.00   \n",
       "75%       100192.00        NaN     8.00    20150522.00   20150526.00   \n",
       "max       104491.00        NaN     8.00    20151231.00   20160107.00   \n",
       "\n",
       "        FK_Order  FK_Localisation  Quantity   Profit    Sales  Discount  \\\n",
       "count   51251.00         51251.00  51251.00 51251.00 51251.00  51251.00   \n",
       "unique       NaN              NaN       NaN      NaN      NaN       NaN   \n",
       "top          NaN              NaN       NaN      NaN      NaN       NaN   \n",
       "freq         NaN              NaN       NaN      NaN      NaN       NaN   \n",
       "mean   141584.61         43034.15      3.48    28.59   246.47      0.14   \n",
       "std      7431.76          3202.26      2.28   174.37   487.60      0.21   \n",
       "min    128641.00         37211.00      1.00 -6599.98     0.44      0.00   \n",
       "25%    135176.50         40157.00      2.00     0.00    30.74      0.00   \n",
       "50%    141613.00         43280.00      3.00     9.24    85.06      0.00   \n",
       "75%    148048.50         45809.00      5.00    36.81   251.01      0.20   \n",
       "max    154368.00         48692.00     14.00  8399.98 22638.48      0.85   \n",
       "\n",
       "       Returned  Ship_Coast  Ship_Duration  Product ProductSpecification  \n",
       "count     51251    51251.00       51251.00    51251                43488  \n",
       "unique        2         NaN            NaN     2287                  333  \n",
       "top          NO         NaN            NaN  Staples             Recycled  \n",
       "freq      49033         NaN            NaN      222                 2085  \n",
       "mean        NaN       26.48           3.97      NaN                  NaN  \n",
       "std         NaN       57.26           1.73      NaN                  NaN  \n",
       "min         NaN        1.00           0.00      NaN                  NaN  \n",
       "25%         NaN        2.61           3.00      NaN                  NaN  \n",
       "50%         NaN        7.79           4.00      NaN                  NaN  \n",
       "75%         NaN       24.45           5.00      NaN                  NaN  \n",
       "max         NaN      933.57           7.00      NaN                  NaN  "
      ]
     },
     "execution_count": 10,
     "metadata": {},
     "output_type": "execute_result"
    }
   ],
   "source": [
    "data.describe(include = 'all')"
   ]
  },
  {
   "cell_type": "markdown",
   "metadata": {},
   "source": [
    "<div style='font-size:100%;'>\n",
    "    <a id='drop'></a>\n",
    "    <h1 style='color: black; font-weight: bold; font-family: Calibri;'>\n",
    "        <center> Dropping unnecessary features ⬇️ </center>\n",
    "    </h1>\n",
    "</div>"
   ]
  },
  {
   "cell_type": "code",
   "execution_count": 11,
   "metadata": {},
   "outputs": [],
   "source": [
    "data.drop(['FK_Customer','FK_Product','FK_Ship','FK_Date_Order','FK_Date_Ship','FK_Order','FK_Localisation','ProductSpecification'],inplace = True,axis=1)"
   ]
  },
  {
   "cell_type": "code",
   "execution_count": 12,
   "metadata": {},
   "outputs": [],
   "source": [
    "from sklearn import preprocessing\n",
    "le = preprocessing.LabelEncoder()\n",
    "data['Product'] = le.fit_transform(data['Product'])"
   ]
  },
  {
   "cell_type": "code",
   "execution_count": 13,
   "metadata": {},
   "outputs": [
    {
     "data": {
      "text/html": [
       "<div>\n",
       "<style scoped>\n",
       "    .dataframe tbody tr th:only-of-type {\n",
       "        vertical-align: middle;\n",
       "    }\n",
       "\n",
       "    .dataframe tbody tr th {\n",
       "        vertical-align: top;\n",
       "    }\n",
       "\n",
       "    .dataframe thead th {\n",
       "        text-align: right;\n",
       "    }\n",
       "</style>\n",
       "<table border=\"1\" class=\"dataframe\">\n",
       "  <thead>\n",
       "    <tr style=\"text-align: right;\">\n",
       "      <th></th>\n",
       "      <th>Quantity</th>\n",
       "      <th>Profit</th>\n",
       "      <th>Sales</th>\n",
       "      <th>Discount</th>\n",
       "      <th>Returned</th>\n",
       "      <th>Ship_Coast</th>\n",
       "      <th>Ship_Duration</th>\n",
       "      <th>Product</th>\n",
       "    </tr>\n",
       "  </thead>\n",
       "  <tbody>\n",
       "    <tr>\n",
       "      <th>0</th>\n",
       "      <td>7</td>\n",
       "      <td>-4.21</td>\n",
       "      <td>44.93</td>\n",
       "      <td>0.45</td>\n",
       "      <td>NO</td>\n",
       "      <td>6.91</td>\n",
       "      <td>3</td>\n",
       "      <td>307</td>\n",
       "    </tr>\n",
       "    <tr>\n",
       "      <th>1</th>\n",
       "      <td>5</td>\n",
       "      <td>-10.44</td>\n",
       "      <td>23.76</td>\n",
       "      <td>0.45</td>\n",
       "      <td>NO</td>\n",
       "      <td>2.84</td>\n",
       "      <td>4</td>\n",
       "      <td>1064</td>\n",
       "    </tr>\n",
       "    <tr>\n",
       "      <th>2</th>\n",
       "      <td>2</td>\n",
       "      <td>-23.53</td>\n",
       "      <td>51.71</td>\n",
       "      <td>0.45</td>\n",
       "      <td>NO</td>\n",
       "      <td>1.77</td>\n",
       "      <td>3</td>\n",
       "      <td>745</td>\n",
       "    </tr>\n",
       "    <tr>\n",
       "      <th>3</th>\n",
       "      <td>13</td>\n",
       "      <td>-141.96</td>\n",
       "      <td>278.85</td>\n",
       "      <td>0.45</td>\n",
       "      <td>NO</td>\n",
       "      <td>30.01</td>\n",
       "      <td>3</td>\n",
       "      <td>850</td>\n",
       "    </tr>\n",
       "    <tr>\n",
       "      <th>4</th>\n",
       "      <td>1</td>\n",
       "      <td>-8.53</td>\n",
       "      <td>29.24</td>\n",
       "      <td>0.45</td>\n",
       "      <td>NO</td>\n",
       "      <td>6.66</td>\n",
       "      <td>3</td>\n",
       "      <td>1778</td>\n",
       "    </tr>\n",
       "    <tr>\n",
       "      <th>...</th>\n",
       "      <td>...</td>\n",
       "      <td>...</td>\n",
       "      <td>...</td>\n",
       "      <td>...</td>\n",
       "      <td>...</td>\n",
       "      <td>...</td>\n",
       "      <td>...</td>\n",
       "      <td>...</td>\n",
       "    </tr>\n",
       "    <tr>\n",
       "      <th>51246</th>\n",
       "      <td>4</td>\n",
       "      <td>11.94</td>\n",
       "      <td>59.94</td>\n",
       "      <td>0.10</td>\n",
       "      <td>NO</td>\n",
       "      <td>2.31</td>\n",
       "      <td>2</td>\n",
       "      <td>1931</td>\n",
       "    </tr>\n",
       "    <tr>\n",
       "      <th>51247</th>\n",
       "      <td>2</td>\n",
       "      <td>7.30</td>\n",
       "      <td>87.98</td>\n",
       "      <td>0.40</td>\n",
       "      <td>NO</td>\n",
       "      <td>9.11</td>\n",
       "      <td>7</td>\n",
       "      <td>1969</td>\n",
       "    </tr>\n",
       "    <tr>\n",
       "      <th>51248</th>\n",
       "      <td>3</td>\n",
       "      <td>69.74</td>\n",
       "      <td>590.12</td>\n",
       "      <td>0.00</td>\n",
       "      <td>NO</td>\n",
       "      <td>106.68</td>\n",
       "      <td>3</td>\n",
       "      <td>1838</td>\n",
       "    </tr>\n",
       "    <tr>\n",
       "      <th>51249</th>\n",
       "      <td>8</td>\n",
       "      <td>25.20</td>\n",
       "      <td>133.68</td>\n",
       "      <td>0.00</td>\n",
       "      <td>NO</td>\n",
       "      <td>4.76</td>\n",
       "      <td>4</td>\n",
       "      <td>1779</td>\n",
       "    </tr>\n",
       "    <tr>\n",
       "      <th>51250</th>\n",
       "      <td>3</td>\n",
       "      <td>40.68</td>\n",
       "      <td>135.63</td>\n",
       "      <td>0.00</td>\n",
       "      <td>NO</td>\n",
       "      <td>9.23</td>\n",
       "      <td>4</td>\n",
       "      <td>1369</td>\n",
       "    </tr>\n",
       "  </tbody>\n",
       "</table>\n",
       "<p>51251 rows × 8 columns</p>\n",
       "</div>"
      ],
      "text/plain": [
       "       Quantity  Profit  Sales  Discount Returned  Ship_Coast  Ship_Duration  \\\n",
       "0             7   -4.21  44.93      0.45       NO        6.91              3   \n",
       "1             5  -10.44  23.76      0.45       NO        2.84              4   \n",
       "2             2  -23.53  51.71      0.45       NO        1.77              3   \n",
       "3            13 -141.96 278.85      0.45       NO       30.01              3   \n",
       "4             1   -8.53  29.24      0.45       NO        6.66              3   \n",
       "...         ...     ...    ...       ...      ...         ...            ...   \n",
       "51246         4   11.94  59.94      0.10       NO        2.31              2   \n",
       "51247         2    7.30  87.98      0.40       NO        9.11              7   \n",
       "51248         3   69.74 590.12      0.00       NO      106.68              3   \n",
       "51249         8   25.20 133.68      0.00       NO        4.76              4   \n",
       "51250         3   40.68 135.63      0.00       NO        9.23              4   \n",
       "\n",
       "       Product  \n",
       "0          307  \n",
       "1         1064  \n",
       "2          745  \n",
       "3          850  \n",
       "4         1778  \n",
       "...        ...  \n",
       "51246     1931  \n",
       "51247     1969  \n",
       "51248     1838  \n",
       "51249     1779  \n",
       "51250     1369  \n",
       "\n",
       "[51251 rows x 8 columns]"
      ]
     },
     "execution_count": 13,
     "metadata": {},
     "output_type": "execute_result"
    }
   ],
   "source": [
    "data"
   ]
  },
  {
   "cell_type": "markdown",
   "metadata": {},
   "source": [
    "<div style='font-size:100%;'>\n",
    "    <a id='encode'></a>\n",
    "    <h1 style='color: black; font-weight: bold; font-family: Calibri;'>\n",
    "        <center> Encoding the target Returned ⬇️ </center>\n",
    "    </h1>\n",
    "</div>"
   ]
  },
  {
   "cell_type": "code",
   "execution_count": 14,
   "metadata": {},
   "outputs": [],
   "source": [
    "data['Returned'] = data['Returned'].replace(['NO'], '0')\n",
    "data['Returned'] = data['Returned'].replace(['Yes'], '1')\n",
    "data['Returned']=data['Returned'].apply(int)"
   ]
  },
  {
   "cell_type": "code",
   "execution_count": 15,
   "metadata": {},
   "outputs": [],
   "source": [
    "target = data['Returned']"
   ]
  },
  {
   "cell_type": "code",
   "execution_count": 16,
   "metadata": {},
   "outputs": [
    {
     "data": {
      "image/png": "[encoded data removed]",
      "text/plain": [
       "<Figure size 432x288 with 1 Axes>"
      ]
     },
     "metadata": {},
     "output_type": "display_data"
    }
   ],
   "source": [
    "data['Returned'].value_counts().plot.pie()\n",
    "plt.show()"
   ]
  },
  {
   "cell_type": "markdown",
   "metadata": {},
   "source": [
    "We noticed that our target Returned is imbalanced"
   ]
  },
  {
   "cell_type": "markdown",
   "metadata": {},
   "source": [
    "<div style='font-size:100%;'>\n",
    "    <a id='smote'></a>\n",
    "    <h1 style='color: black; font-weight: bold; font-family: Calibri;'>\n",
    "        <center> Balancing the data with SMOT Algorithm⬇️ </center>\n",
    "    </h1>\n",
    "</div>"
   ]
  },
  {
   "cell_type": "code",
   "execution_count": 17,
   "metadata": {},
   "outputs": [],
   "source": [
    "X = data.drop(\"Returned\", axis=1)\n",
    "y = data[\"Returned\"]"
   ]
  },
  {
   "cell_type": "code",
   "execution_count": 18,
   "metadata": {},
   "outputs": [
    {
     "name": "stdout",
     "output_type": "stream",
     "text": [
      "Number transactions X_train dataset:  (35875, 7)\n",
      "Number transactions y_train dataset:  (35875,)\n",
      "Number transactions X_test dataset:  (15376, 7)\n",
      "Number transactions y_test dataset:  (15376,)\n"
     ]
    }
   ],
   "source": [
    "from sklearn.model_selection import train_test_split\n",
    "  \n",
    "# split into 70:30 ration\n",
    "X_train, X_test, y_train, y_test = train_test_split(X, y, test_size = 0.3, random_state = 0)\n",
    "  \n",
    "# describes info about train and test set\n",
    "print(\"Number transactions X_train dataset: \", X_train.shape)\n",
    "print(\"Number transactions y_train dataset: \", y_train.shape)\n",
    "print(\"Number transactions X_test dataset: \", X_test.shape)\n",
    "print(\"Number transactions y_test dataset: \", y_test.shape)"
   ]
  },
  {
   "cell_type": "code",
   "execution_count": 19,
   "metadata": {},
   "outputs": [
    {
     "name": "stdout",
     "output_type": "stream",
     "text": [
      "Before OverSampling, counts of label '1': 1536\n",
      "Before OverSampling, counts of label '0': 34339 \n",
      "\n",
      "After OverSampling, the shape of train_X: (68678, 7)\n",
      "After OverSampling, the shape of train_y: (68678,) \n",
      "\n",
      "After OverSampling, counts of label '1': 34339\n",
      "After OverSampling, counts of label '0': 34339\n"
     ]
    }
   ],
   "source": [
    "print(\"Before OverSampling, counts of label '1': {}\".format(sum(y_train == 1)))\n",
    "print(\"Before OverSampling, counts of label '0': {} \\n\".format(sum(y_train == 0)))\n",
    "  \n",
    "# import SMOTE module from imblearn library\n",
    "# pip install imblearn (if you don't have imblearn in your system)\n",
    "from imblearn.over_sampling import SMOTE\n",
    "sm = SMOTE(random_state = 2)\n",
    "X_train_res, y_train_res = sm.fit_sample(X_train, y_train.ravel())\n",
    "  \n",
    "print('After OverSampling, the shape of train_X: {}'.format(X_train_res.shape))\n",
    "print('After OverSampling, the shape of train_y: {} \\n'.format(y_train_res.shape))\n",
    "  \n",
    "print(\"After OverSampling, counts of label '1': {}\".format(sum(y_train_res == 1)))\n",
    "print(\"After OverSampling, counts of label '0': {}\".format(sum(y_train_res == 0)))"
   ]
  },
  {
   "cell_type": "code",
   "execution_count": 20,
   "metadata": {},
   "outputs": [],
   "source": [
    "X_train_res['Returned'] = y_train_res.tolist()"
   ]
  },
  {
   "cell_type": "code",
   "execution_count": 21,
   "metadata": {},
   "outputs": [],
   "source": [
    "data= X_train_res"
   ]
  },
  {
   "cell_type": "code",
   "execution_count": 22,
   "metadata": {},
   "outputs": [
    {
     "data": {
      "image/png": "[encoded data removed]",
      "text/plain": [
       "<Figure size 432x288 with 1 Axes>"
      ]
     },
     "metadata": {},
     "output_type": "display_data"
    }
   ],
   "source": [
    "data['Returned'].value_counts().plot.pie()\n",
    "plt.show()"
   ]
  },
  {
   "cell_type": "markdown",
   "metadata": {},
   "source": [
    "\n",
    "<div style='font-size:150%;'>\n",
    "    <a id='knn'></a>\n",
    "    <h1 style='color:#142b5a; font-weight: bold; font-family: Calibri;'>\n",
    "        <center>KNN Model</center>\n",
    "    </h1>\n",
    "</div>"
   ]
  },
  {
   "cell_type": "markdown",
   "metadata": {},
   "source": [
    "1-dropping the target"
   ]
  },
  {
   "cell_type": "code",
   "execution_count": 23,
   "metadata": {},
   "outputs": [],
   "source": [
    "#dropping the target \n",
    "X = data.drop(\"Returned\", axis=1)\n",
    "y = data[\"Returned\"]"
   ]
  },
  {
   "cell_type": "markdown",
   "metadata": {},
   "source": [
    "2-Splitting the data into data_train and data_test"
   ]
  },
  {
   "cell_type": "code",
   "execution_count": 23,
   "metadata": {},
   "outputs": [
    {
     "name": "stdout",
     "output_type": "stream",
     "text": [
      "Number transactions X_train dataset:  (35875, 7)\n",
      "Number transactions y_train dataset:  (35875,)\n",
      "Number transactions X_test dataset:  (15376, 7)\n",
      "Number transactions y_test dataset:  (15376,)\n"
     ]
    }
   ],
   "source": [
    "from sklearn.model_selection import train_test_split\n",
    "  \n",
    "# split into 70:30 ration\n",
    "X_train, X_test, y_train, y_test = train_test_split(X, y, test_size = 0.3, random_state = 0)\n",
    "  \n",
    "# describes info about train and test set\n",
    "print(\"Number transactions X_train dataset: \", X_train.shape)\n",
    "print(\"Number transactions y_train dataset: \", y_train.shape)\n",
    "print(\"Number transactions X_test dataset: \", X_test.shape)\n",
    "print(\"Number transactions y_test dataset: \", y_test.shape)"
   ]
  },
  {
   "cell_type": "code",
   "execution_count": 24,
   "metadata": {},
   "outputs": [],
   "source": [
    "from sklearn.preprocessing import StandardScaler\n",
    "scaler = StandardScaler()\n",
    "scaler.fit(X_train)\n",
    "\n",
    "X_train = scaler.transform(X_train)\n",
    "X_test = scaler.transform(X_test)"
   ]
  },
  {
   "cell_type": "markdown",
   "metadata": {},
   "source": [
    "3-Searching for the best value of k with KNeighborsClassifier."
   ]
  },
  {
   "cell_type": "code",
   "execution_count": null,
   "metadata": {},
   "outputs": [],
   "source": [
    "from sklearn.neighbors import KNeighborsClassifier\n",
    "\n",
    "error = []\n",
    "# Calculate the error for k between 1 and 40\n",
    "#For each iteration, the average error for the predicted values\n",
    "# of the test set is calculated and saved in the Error list.\n",
    "# Test k from 1 to 40 and Manhattan distance\n",
    "for i in range(1, 40):\n",
    "    knn = KNeighborsClassifier(i,metric='manhattan')\n",
    "    knn_model = knn.fit(X_train, y_train)\n",
    "    pred_i = knn_model.predict(X_test)\n",
    "    error.append(np.mean(pred_i != y_test))\n",
    "plt.figure(figsize=(12, 6))\n",
    "plt.plot(range(1, 40), error, color='red', linestyle='dashed', marker='o',\n",
    "         markerfacecolor='blue', markersize=10)\n",
    "plt.title('Taux Erreur pour les differentes valeurs de k')\n",
    "plt.xlabel('K ')\n",
    "plt.ylabel('Erreur')"
   ]
  },
  {
   "cell_type": "markdown",
   "metadata": {},
   "source": [
    "4-Model tuning (Hyperparameter Tuning):\n",
    "\n",
    "Searching through gridsearch for the best hyperparameters.\n"
   ]
  },
  {
   "cell_type": "code",
   "execution_count": null,
   "metadata": {},
   "outputs": [],
   "source": [
    "from sklearn.model_selection import GridSearchCV\n",
    "leaf_size = list(range(1,20))# Par défaut c'est 30\n",
    "n_neighbors = list(range(1,25))  \n",
    "p=[1,2] #p = 1 manhattan_distance/p=2 euclidean_distance\n",
    "#Convert to dictionary\n",
    "hyperparameters = dict(leaf_size=leaf_size, n_neighbors=n_neighbors, p=p)\n",
    "#Create new KNN object\n",
    "knn_2 = KNeighborsClassifier()\n",
    "#Use GridSearch\n",
    "clf = GridSearchCV(knn_2, hyperparameters, cv=10, n_jobs=-1)  \n",
    "#n_jobs: number of CPU'sfor execution.\n",
    "#cv: number of folds of the cross validation\n",
    "\n",
    "#Fit the model\n",
    "best_model = clf.fit(X_train, y_train)\n",
    "#Print The value of best Hyperparameters\n",
    "print('Best leaf_size:', best_model.best_estimator_.get_params()['leaf_size'])\n",
    "print('Best p:', best_model.best_estimator_.get_params()['p'])\n",
    "print('Best n_neighbors:', best_model.best_estimator_.get_params()['n_neighbors'])"
   ]
  },
  {
   "cell_type": "code",
   "execution_count": null,
   "metadata": {},
   "outputs": [],
   "source": [
    "# Show the settings that give the best performance\n",
    "best_parameters = clf.best_params_\n",
    "print(best_parameters)"
   ]
  },
  {
   "cell_type": "code",
   "execution_count": null,
   "metadata": {},
   "outputs": [],
   "source": [
    "#Good classification rate\n",
    "best_result = clf.best_score_\n",
    "print(best_result)"
   ]
  },
  {
   "cell_type": "markdown",
   "metadata": {},
   "source": [
    "5-Training phase:\n",
    "Apply the KNN model with the training data"
   ]
  },
  {
   "cell_type": "code",
   "execution_count": 26,
   "metadata": {},
   "outputs": [],
   "source": [
    "knn = KNeighborsClassifier(8,p=1,leaf_size=1 )\n",
    "knn_model = knn.fit(X_train, y_train)\n",
    "y_pred_knn = knn_model.predict(X_test)"
   ]
  },
  {
   "cell_type": "markdown",
   "metadata": {},
   "source": [
    "<div style='font-size:100%;'>\n",
    "    <a id='eval'></a>\n",
    "    <h1 style='color: black; font-weight: bold; font-family: Calibri;'>\n",
    "        <center> Evaluation of the Model⬇️ </center>\n",
    "    </h1>\n",
    "</div>"
   ]
  },
  {
   "cell_type": "code",
   "execution_count": 27,
   "metadata": {},
   "outputs": [
    {
     "name": "stdout",
     "output_type": "stream",
     "text": [
      "Accuracy of K-NN classifier on training set: 0.96\n",
      "Accuracy of K-NN classifier on test set: 0.96\n"
     ]
    }
   ],
   "source": [
    "print('Accuracy of K-NN classifier on training set: {:.2f}'\n",
    "     .format(knn.score(X_train, y_train)))\n",
    "print('Accuracy of K-NN classifier on test set: {:.2f}'\n",
    "     .format(knn.score(X_test, y_test)))"
   ]
  },
  {
   "cell_type": "code",
   "execution_count": 28,
   "metadata": {},
   "outputs": [
    {
     "name": "stdout",
     "output_type": "stream",
     "text": [
      "[[14694     0]\n",
      " [  682     0]]\n"
     ]
    }
   ],
   "source": [
    "from sklearn.metrics import confusion_matrix\n",
    "print(confusion_matrix(y_test, y_pred_knn))"
   ]
  },
  {
   "cell_type": "code",
   "execution_count": 29,
   "metadata": {},
   "outputs": [
    {
     "name": "stdout",
     "output_type": "stream",
     "text": [
      "              precision    recall  f1-score   support\n",
      "\n",
      "           0       0.96      1.00      0.98     14694\n",
      "           1       0.00      0.00      0.00       682\n",
      "\n",
      "    accuracy                           0.96     15376\n",
      "   macro avg       0.48      0.50      0.49     15376\n",
      "weighted avg       0.91      0.96      0.93     15376\n",
      "\n"
     ]
    }
   ],
   "source": [
    "from sklearn.metrics import classification_report\n",
    "print(classification_report(y_test, y_pred_knn))"
   ]
  },
  {
   "cell_type": "markdown",
   "metadata": {},
   "source": [
    "<div style='font-size:150%;'>\n",
    "    <a id='svm'></a>\n",
    "    <h1 style='color:#142b5a; font-weight: bold; font-family: Calibri;'>\n",
    "        <center>SVM Model</center>\n",
    "    </h1>\n",
    "</div>"
   ]
  },
  {
   "cell_type": "markdown",
   "metadata": {},
   "source": [
    "<div style='font-size:100%;'>\n",
    "    <a id='pd'></a>\n",
    "    <h1 style='color: black; font-weight: bold; font-family: Calibri;'>\n",
    "        <center> Preparing our data </center>\n",
    "    </h1>\n",
    "</div>"
   ]
  },
  {
   "cell_type": "code",
   "execution_count": 30,
   "metadata": {},
   "outputs": [],
   "source": [
    "X = data.drop(\"Returned\", axis=1)\n",
    "y = data[\"Returned\"]"
   ]
  },
  {
   "cell_type": "code",
   "execution_count": 31,
   "metadata": {},
   "outputs": [
    {
     "name": "stdout",
     "output_type": "stream",
     "text": [
      "Number transactions X_train dataset:  (48074, 7)\n",
      "Number transactions y_train dataset:  (48074,)\n",
      "Number transactions X_test dataset:  (20604, 7)\n",
      "Number transactions y_test dataset:  (20604,)\n"
     ]
    }
   ],
   "source": [
    "from sklearn.model_selection import train_test_split\n",
    "  \n",
    "# split into 70:30 ration\n",
    "X_train, X_test, y_train, y_test = train_test_split(X, y, test_size = 0.3, random_state = 0)\n",
    "  \n",
    "# describes info about train and test set\n",
    "print(\"Number transactions X_train dataset: \", X_train.shape)\n",
    "print(\"Number transactions y_train dataset: \", y_train.shape)\n",
    "print(\"Number transactions X_test dataset: \", X_test.shape)\n",
    "print(\"Number transactions y_test dataset: \", y_test.shape)"
   ]
  },
  {
   "cell_type": "code",
   "execution_count": 32,
   "metadata": {},
   "outputs": [
    {
     "data": {
      "image/png": "[encoded data removed]",
      "text/plain": [
       "<Figure size 432x288 with 1 Axes>"
      ]
     },
     "metadata": {},
     "output_type": "display_data"
    }
   ],
   "source": [
    "y_train.value_counts().plot.pie()\n",
    "plt.show()"
   ]
  },
  {
   "cell_type": "markdown",
   "metadata": {},
   "source": [
    "<div style='font-size:100%;'>\n",
    "    <a id='SVC'></a>\n",
    "    <h1 style='color: black; font-weight: bold; font-family: Calibri;'>\n",
    "        <center> Support Vector Classifier</center>\n",
    "    </h1>\n",
    "</div>"
   ]
  },
  {
   "cell_type": "code",
   "execution_count": null,
   "metadata": {
    "colab": {},
    "colab_type": "code",
    "id": "5caNyFrJmtQJ",
    "outputId": "1c81004c-612a-4a1a-b0cd-5079683b2d35"
   },
   "outputs": [],
   "source": [
    "#Training svm model\n",
    "svm = SVC()\n",
    "svm.fit(X_train, y_train)"
   ]
  },
  {
   "cell_type": "code",
   "execution_count": null,
   "metadata": {
    "colab": {},
    "colab_type": "code",
    "id": "WG-rSHlcmtQP",
    "outputId": "7e9884f1-057b-42f7-f561-69a97ce3252a"
   },
   "outputs": [],
   "source": [
    "from sklearn.metrics import classification_report\n",
    "y_pred_svc_1 = svm.predict(X_test)\n",
    "print(classification_report(y_pred_svc_1, y_test))"
   ]
  },
  {
   "cell_type": "markdown",
   "metadata": {
    "colab_type": "text",
    "id": "kJuBCm2qmtQS"
   },
   "source": [
    "<div style='font-size:100%;'>\n",
    "    <a id='lk'></a>\n",
    "    <h1 style='color: black; font-weight: bold; font-family: Calibri;'>\n",
    "        <center> Linear Kernel </center>\n",
    "    </h1>\n",
    "</div>"
   ]
  },
  {
   "cell_type": "code",
   "execution_count": null,
   "metadata": {
    "colab": {},
    "colab_type": "code",
    "id": "mkFPlHIsmtQS",
    "outputId": "dae314b3-62fe-4072-92d5-bb4e530fd0b4"
   },
   "outputs": [],
   "source": [
    "# Kernel linear\n",
    "svm = SVC(kernel=\"linear\")\n",
    "svm.fit(X_train, y_train)\n",
    "from sklearn.metrics import classification_report\n",
    "y_pred_svc_2 = svm.predict(X_test)\n",
    "print(classification_report(y_pred_svc_2, y_test))"
   ]
  },
  {
   "cell_type": "markdown",
   "metadata": {
    "colab_type": "text",
    "id": "VTB_-j5gmtQW"
   },
   "source": [
    "<div style='font-size:100%;'>\n",
    "    <a id='pk'></a>\n",
    "    <h1 style='color: black; font-weight: bold; font-family: Calibri;'>\n",
    "        <center> Polynomial Kernel </center>\n",
    "    </h1>\n",
    "</div>"
   ]
  },
  {
   "cell_type": "code",
   "execution_count": null,
   "metadata": {
    "colab": {},
    "colab_type": "code",
    "id": "o8UeKssemtQW",
    "outputId": "3c543df8-f662-474e-d80b-c2ddb3da958d"
   },
   "outputs": [],
   "source": [
    "# Kernel poly\n",
    "svm = SVC(kernel=\"poly\")\n",
    "svm.fit(X_train, y_train)\n",
    "from sklearn.metrics import classification_report\n",
    "y_pred_svc_3 = svm.predict(X_test)\n",
    "print(classification_report(y_pred_svc_3, y_test))"
   ]
  },
  {
   "cell_type": "markdown",
   "metadata": {
    "colab_type": "text",
    "id": "Z423cCChmtQZ"
   },
   "source": [
    "<div style='font-size:100%;'>\n",
    "    <a id='sk'></a>\n",
    "    <h1 style='color: black; font-weight: bold; font-family: Calibri;'>\n",
    "        <center> Sigmoid Kernel </center>\n",
    "    </h1>\n",
    "</div>"
   ]
  },
  {
   "cell_type": "code",
   "execution_count": null,
   "metadata": {
    "colab": {},
    "colab_type": "code",
    "id": "6KioomtQmtQa",
    "outputId": "4a3cc09f-d59e-4e2d-89c1-ccd3f9e038f5"
   },
   "outputs": [],
   "source": [
    "# Kernel sigmoid\n",
    "svm = SVC(kernel=\"sigmoid\")\n",
    "svm.fit(X_train, y_train)\n",
    "from sklearn.metrics import classification_report\n",
    "y_pred_svc_4 = svm.predict(X_test)\n",
    "print(classification_report(y_pred_svc_4, y_test))"
   ]
  },
  {
   "cell_type": "markdown",
   "metadata": {
    "colab_type": "text",
    "id": "tiuADL8EmtQd"
   },
   "source": [
    "The kernel scores for this dataset are:\n",
    "1. Support Vector Classifier : 0.56\n",
    "2. Linear Kernel : 0.54\n",
    "3. Polynomial Kernel : 0.96\n",
    "4. Sigmoid Kernel : 0.95"
   ]
  },
  {
   "cell_type": "markdown",
   "metadata": {
    "colab_type": "text",
    "id": "ySrunys7mtQd"
   },
   "source": [
    "We can conclude that the data follows a polynomial form more than a linear form."
   ]
  },
  {
   "cell_type": "markdown",
   "metadata": {
    "colab_type": "text",
    "id": "CS9yachTmtQf"
   },
   "source": [
    "### Noyeau Gaussien RBF"
   ]
  },
  {
   "cell_type": "code",
   "execution_count": null,
   "metadata": {
    "colab": {},
    "colab_type": "code",
    "id": "pMuMkc2DmtQf",
    "outputId": "37daefa5-cf1b-47f9-8072-80034e6f4394"
   },
   "outputs": [],
   "source": [
    "# Kernel rbf (Par défaut)\n",
    "svm = SVC(kernel=\"rbf\")\n",
    "svm.fit(X_train, y_train)\n",
    "from sklearn.metrics import classification_report\n",
    "y_pred = svm.predict(X_test)\n",
    "print(classification_report(y_pred, y_test))"
   ]
  },
  {
   "cell_type": "markdown",
   "metadata": {
    "colab_type": "text",
    "id": "DddrjCJYmtQp"
   },
   "source": [
    "<div style='font-size:100%;'>\n",
    "    <a id='ct'></a>\n",
    "    <h1 style='color: black; font-weight: bold; font-family: Calibri;'>\n",
    "        <center> Comparative Table </center>\n",
    "    </h1>\n",
    "</div>"
   ]
  },
  {
   "cell_type": "code",
   "execution_count": null,
   "metadata": {
    "colab": {},
    "colab_type": "code",
    "id": "Yr39HAgjmtQq",
    "outputId": "cf0f15e2-db25-4d4e-a977-273bd97f28e4"
   },
   "outputs": [],
   "source": [
    "from sklearn.metrics import accuracy_score\n",
    "from sklearn.metrics import recall_score\n",
    "from sklearn.metrics import precision_score\n",
    "from sklearn.metrics import f1_score\n",
    "# We will display a table which orders the models from the most efficient to the least efficient according to the score\n",
    "s1=accuracy_score(y_test, y_pred_svc_1)\n",
    "s2=accuracy_score(y_test, y_pred_svc_2)\n",
    "s3=accuracy_score(y_test, y_pred_svc_3)\n",
    "s4=accuracy_score(y_test, y_pred_svc_4)\n",
    "\n",
    "models = pd.DataFrame({\n",
    "    'Model': ['Support Vector Machines RBF', 'Support Vector Machines Linaire','Support Vector Machines polynomiale',\n",
    "              'Support Vector Machines sigmoïde'],\n",
    "    'Score': [s1,s2, s3, \n",
    "              s4]})\n",
    "models.sort_values(by=\"Score\",ascending=False)"
   ]
  },
  {
   "cell_type": "code",
   "execution_count": null,
   "metadata": {
    "colab": {},
    "colab_type": "code",
    "id": "Ylabyj1HmtQz"
   },
   "outputs": [],
   "source": []
  },
  {
   "cell_type": "markdown",
   "metadata": {},
   "source": [
    "<div style='font-size:150%;'>\n",
    "    <a id='xgboost'></a>\n",
    "    <h1 style='color:#142b5a; font-weight: bold; font-family: Calibri;'>\n",
    "        <center>XGBOOST Model</center>\n",
    "    </h1>\n",
    "</div>"
   ]
  },
  {
   "cell_type": "code",
   "execution_count": 33,
   "metadata": {},
   "outputs": [],
   "source": [
    "SQL_Query = pd.read_sql_query('''select * FROM DW_projet.dbo.factSales''', conn2)\n",
    "data = pd.DataFrame(SQL_Query)"
   ]
  },
  {
   "cell_type": "code",
   "execution_count": 34,
   "metadata": {},
   "outputs": [],
   "source": [
    "X = data.drop(\"Returned\", axis=1)\n",
    "y = data[\"Returned\"]"
   ]
  },
  {
   "cell_type": "code",
   "execution_count": 35,
   "metadata": {},
   "outputs": [
    {
     "name": "stdout",
     "output_type": "stream",
     "text": [
      "Number transactions X_train dataset:  (35875, 13)\n",
      "Number transactions y_train dataset:  (35875,)\n",
      "Number transactions X_test dataset:  (15376, 13)\n",
      "Number transactions y_test dataset:  (15376,)\n"
     ]
    }
   ],
   "source": [
    "from sklearn.model_selection import train_test_split\n",
    "  \n",
    "# split into 70:30 ration\n",
    "X_train, X_test, y_train, y_test = train_test_split(X, y, test_size = 0.3, random_state = 0)\n",
    "  \n",
    "# describes info about train and test set\n",
    "print(\"Number transactions X_train dataset: \", X_train.shape)\n",
    "print(\"Number transactions y_train dataset: \", y_train.shape)\n",
    "print(\"Number transactions X_test dataset: \", X_test.shape)\n",
    "print(\"Number transactions y_test dataset: \", y_test.shape)"
   ]
  },
  {
   "cell_type": "code",
   "execution_count": 36,
   "metadata": {},
   "outputs": [
    {
     "name": "stdout",
     "output_type": "stream",
     "text": [
      "Before OverSampling, counts of label '1': 0\n",
      "Before OverSampling, counts of label '0': 0 \n",
      "\n",
      "After OverSampling, the shape of train_X: (68678, 13)\n",
      "After OverSampling, the shape of train_y: (68678,) \n",
      "\n",
      "After OverSampling, counts of label '1': 0\n",
      "After OverSampling, counts of label '0': 0\n"
     ]
    }
   ],
   "source": [
    "print(\"Before OverSampling, counts of label '1': {}\".format(sum(y_train == 1)))\n",
    "print(\"Before OverSampling, counts of label '0': {} \\n\".format(sum(y_train == 0)))\n",
    "  \n",
    "# import SMOTE module from imblearn library\n",
    "# pip install imblearn (if you don't have imblearn in your system)\n",
    "from imblearn.over_sampling import SMOTE\n",
    "sm = SMOTE(random_state = 2)\n",
    "X_train_res, y_train_res = sm.fit_resample(X_train, y_train.ravel())\n",
    "  \n",
    "print('After OverSampling, the shape of train_X: {}'.format(X_train_res.shape))\n",
    "print('After OverSampling, the shape of train_y: {} \\n'.format(y_train_res.shape))\n",
    "  \n",
    "print(\"After OverSampling, counts of label '1': {}\".format(sum(y_train_res == 1)))\n",
    "print(\"After OverSampling, counts of label '0': {}\".format(sum(y_train_res == 0)))"
   ]
  },
  {
   "cell_type": "code",
   "execution_count": 37,
   "metadata": {},
   "outputs": [],
   "source": [
    "X_train_res['Returned'] = y_train_res.tolist()"
   ]
  },
  {
   "cell_type": "code",
   "execution_count": 38,
   "metadata": {},
   "outputs": [],
   "source": [
    "data= X_train_res"
   ]
  },
  {
   "cell_type": "markdown",
   "metadata": {},
   "source": [
    "# Dividing variables into categorical and Numeric\n"
   ]
  },
  {
   "cell_type": "code",
   "execution_count": 39,
   "metadata": {},
   "outputs": [],
   "source": [
    "data = data.drop(['FK_Customer','FK_Product','FK_Ship','FK_Date_Order','FK_Date_Ship','FK_Order','FK_Localisation'],axis=1)\n",
    "vars=data.dtypes\n",
    "categorical=[]\n",
    "numeric=[]\n",
    "for i in range(0,len(vars)):\n",
    "    if vars[i]==\"object\": \n",
    "        categorical.append(data.columns[i])\n",
    "    else:\n",
    "        numeric.append(data.columns[i]) "
   ]
  },
  {
   "cell_type": "code",
   "execution_count": 40,
   "metadata": {},
   "outputs": [
    {
     "data": {
      "text/plain": [
       "['Quantity', 'Profit', 'Sales', 'Discount', 'Ship_Coast', 'Ship_Duration']"
      ]
     },
     "execution_count": 40,
     "metadata": {},
     "output_type": "execute_result"
    }
   ],
   "source": [
    "numeric"
   ]
  },
  {
   "cell_type": "code",
   "execution_count": 41,
   "metadata": {},
   "outputs": [
    {
     "data": {
      "text/plain": [
       "['Returned']"
      ]
     },
     "execution_count": 41,
     "metadata": {},
     "output_type": "execute_result"
    }
   ],
   "source": [
    "categorical"
   ]
  },
  {
   "cell_type": "code",
   "execution_count": 42,
   "metadata": {},
   "outputs": [
    {
     "data": {
      "text/html": [
       "<div>\n",
       "<style scoped>\n",
       "    .dataframe tbody tr th:only-of-type {\n",
       "        vertical-align: middle;\n",
       "    }\n",
       "\n",
       "    .dataframe tbody tr th {\n",
       "        vertical-align: top;\n",
       "    }\n",
       "\n",
       "    .dataframe thead th {\n",
       "        text-align: right;\n",
       "    }\n",
       "</style>\n",
       "<table border=\"1\" class=\"dataframe\">\n",
       "  <thead>\n",
       "    <tr style=\"text-align: right;\">\n",
       "      <th></th>\n",
       "      <th>Quantity</th>\n",
       "      <th>Profit</th>\n",
       "      <th>Sales</th>\n",
       "      <th>Discount</th>\n",
       "      <th>Ship_Coast</th>\n",
       "      <th>Ship_Duration</th>\n",
       "      <th>Returned</th>\n",
       "    </tr>\n",
       "  </thead>\n",
       "  <tbody>\n",
       "    <tr>\n",
       "      <th>0</th>\n",
       "      <td>2</td>\n",
       "      <td>4.30</td>\n",
       "      <td>8.96</td>\n",
       "      <td>0.00</td>\n",
       "      <td>1.62</td>\n",
       "      <td>5</td>\n",
       "      <td>NO</td>\n",
       "    </tr>\n",
       "    <tr>\n",
       "      <th>1</th>\n",
       "      <td>3</td>\n",
       "      <td>40.23</td>\n",
       "      <td>160.92</td>\n",
       "      <td>0.00</td>\n",
       "      <td>10.98</td>\n",
       "      <td>7</td>\n",
       "      <td>NO</td>\n",
       "    </tr>\n",
       "    <tr>\n",
       "      <th>2</th>\n",
       "      <td>5</td>\n",
       "      <td>76.20</td>\n",
       "      <td>363.30</td>\n",
       "      <td>0.00</td>\n",
       "      <td>37.78</td>\n",
       "      <td>2</td>\n",
       "      <td>NO</td>\n",
       "    </tr>\n",
       "    <tr>\n",
       "      <th>3</th>\n",
       "      <td>2</td>\n",
       "      <td>-34.76</td>\n",
       "      <td>185.38</td>\n",
       "      <td>0.20</td>\n",
       "      <td>28.86</td>\n",
       "      <td>2</td>\n",
       "      <td>NO</td>\n",
       "    </tr>\n",
       "    <tr>\n",
       "      <th>4</th>\n",
       "      <td>2</td>\n",
       "      <td>-8.15</td>\n",
       "      <td>121.93</td>\n",
       "      <td>0.10</td>\n",
       "      <td>5.20</td>\n",
       "      <td>5</td>\n",
       "      <td>NO</td>\n",
       "    </tr>\n",
       "    <tr>\n",
       "      <th>...</th>\n",
       "      <td>...</td>\n",
       "      <td>...</td>\n",
       "      <td>...</td>\n",
       "      <td>...</td>\n",
       "      <td>...</td>\n",
       "      <td>...</td>\n",
       "      <td>...</td>\n",
       "    </tr>\n",
       "    <tr>\n",
       "      <th>68673</th>\n",
       "      <td>1</td>\n",
       "      <td>-4.84</td>\n",
       "      <td>9.74</td>\n",
       "      <td>0.60</td>\n",
       "      <td>1.80</td>\n",
       "      <td>3</td>\n",
       "      <td>Yes</td>\n",
       "    </tr>\n",
       "    <tr>\n",
       "      <th>68674</th>\n",
       "      <td>1</td>\n",
       "      <td>25.69</td>\n",
       "      <td>129.26</td>\n",
       "      <td>0.09</td>\n",
       "      <td>21.33</td>\n",
       "      <td>3</td>\n",
       "      <td>Yes</td>\n",
       "    </tr>\n",
       "    <tr>\n",
       "      <th>68675</th>\n",
       "      <td>1</td>\n",
       "      <td>-5.05</td>\n",
       "      <td>126.13</td>\n",
       "      <td>0.09</td>\n",
       "      <td>7.04</td>\n",
       "      <td>6</td>\n",
       "      <td>Yes</td>\n",
       "    </tr>\n",
       "    <tr>\n",
       "      <th>68676</th>\n",
       "      <td>2</td>\n",
       "      <td>7.63</td>\n",
       "      <td>77.71</td>\n",
       "      <td>0.00</td>\n",
       "      <td>3.55</td>\n",
       "      <td>5</td>\n",
       "      <td>Yes</td>\n",
       "    </tr>\n",
       "    <tr>\n",
       "      <th>68677</th>\n",
       "      <td>6</td>\n",
       "      <td>37.50</td>\n",
       "      <td>777.77</td>\n",
       "      <td>0.30</td>\n",
       "      <td>55.00</td>\n",
       "      <td>2</td>\n",
       "      <td>Yes</td>\n",
       "    </tr>\n",
       "  </tbody>\n",
       "</table>\n",
       "<p>68678 rows × 7 columns</p>\n",
       "</div>"
      ],
      "text/plain": [
       "       Quantity  Profit  Sales  Discount  Ship_Coast  Ship_Duration Returned\n",
       "0             2    4.30   8.96      0.00        1.62              5       NO\n",
       "1             3   40.23 160.92      0.00       10.98              7       NO\n",
       "2             5   76.20 363.30      0.00       37.78              2       NO\n",
       "3             2  -34.76 185.38      0.20       28.86              2       NO\n",
       "4             2   -8.15 121.93      0.10        5.20              5       NO\n",
       "...         ...     ...    ...       ...         ...            ...      ...\n",
       "68673         1   -4.84   9.74      0.60        1.80              3      Yes\n",
       "68674         1   25.69 129.26      0.09       21.33              3      Yes\n",
       "68675         1   -5.05 126.13      0.09        7.04              6      Yes\n",
       "68676         2    7.63  77.71      0.00        3.55              5      Yes\n",
       "68677         6   37.50 777.77      0.30       55.00              2      Yes\n",
       "\n",
       "[68678 rows x 7 columns]"
      ]
     },
     "execution_count": 42,
     "metadata": {},
     "output_type": "execute_result"
    }
   ],
   "source": [
    "data"
   ]
  },
  {
   "cell_type": "markdown",
   "metadata": {},
   "source": [
    "# Variable processing"
   ]
  },
  {
   "cell_type": "code",
   "execution_count": 43,
   "metadata": {},
   "outputs": [],
   "source": [
    "#lable encoding for categorical variables\n",
    "from sklearn.preprocessing import LabelEncoder\n",
    "df1=data[categorical].apply(LabelEncoder().fit_transform)\n",
    "df2=data[numeric]\n",
    "df3=pd.concat([df1, df2], axis=1)"
   ]
  },
  {
   "cell_type": "code",
   "execution_count": 44,
   "metadata": {},
   "outputs": [
    {
     "data": {
      "text/html": [
       "<div>\n",
       "<style scoped>\n",
       "    .dataframe tbody tr th:only-of-type {\n",
       "        vertical-align: middle;\n",
       "    }\n",
       "\n",
       "    .dataframe tbody tr th {\n",
       "        vertical-align: top;\n",
       "    }\n",
       "\n",
       "    .dataframe thead th {\n",
       "        text-align: right;\n",
       "    }\n",
       "</style>\n",
       "<table border=\"1\" class=\"dataframe\">\n",
       "  <thead>\n",
       "    <tr style=\"text-align: right;\">\n",
       "      <th></th>\n",
       "      <th>Returned</th>\n",
       "      <th>Quantity</th>\n",
       "      <th>Profit</th>\n",
       "      <th>Sales</th>\n",
       "      <th>Discount</th>\n",
       "      <th>Ship_Coast</th>\n",
       "      <th>Ship_Duration</th>\n",
       "    </tr>\n",
       "  </thead>\n",
       "  <tbody>\n",
       "    <tr>\n",
       "      <th>0</th>\n",
       "      <td>0</td>\n",
       "      <td>2</td>\n",
       "      <td>4.30</td>\n",
       "      <td>8.96</td>\n",
       "      <td>0.00</td>\n",
       "      <td>1.62</td>\n",
       "      <td>5</td>\n",
       "    </tr>\n",
       "    <tr>\n",
       "      <th>1</th>\n",
       "      <td>0</td>\n",
       "      <td>3</td>\n",
       "      <td>40.23</td>\n",
       "      <td>160.92</td>\n",
       "      <td>0.00</td>\n",
       "      <td>10.98</td>\n",
       "      <td>7</td>\n",
       "    </tr>\n",
       "    <tr>\n",
       "      <th>2</th>\n",
       "      <td>0</td>\n",
       "      <td>5</td>\n",
       "      <td>76.20</td>\n",
       "      <td>363.30</td>\n",
       "      <td>0.00</td>\n",
       "      <td>37.78</td>\n",
       "      <td>2</td>\n",
       "    </tr>\n",
       "    <tr>\n",
       "      <th>3</th>\n",
       "      <td>0</td>\n",
       "      <td>2</td>\n",
       "      <td>-34.76</td>\n",
       "      <td>185.38</td>\n",
       "      <td>0.20</td>\n",
       "      <td>28.86</td>\n",
       "      <td>2</td>\n",
       "    </tr>\n",
       "    <tr>\n",
       "      <th>4</th>\n",
       "      <td>0</td>\n",
       "      <td>2</td>\n",
       "      <td>-8.15</td>\n",
       "      <td>121.93</td>\n",
       "      <td>0.10</td>\n",
       "      <td>5.20</td>\n",
       "      <td>5</td>\n",
       "    </tr>\n",
       "    <tr>\n",
       "      <th>...</th>\n",
       "      <td>...</td>\n",
       "      <td>...</td>\n",
       "      <td>...</td>\n",
       "      <td>...</td>\n",
       "      <td>...</td>\n",
       "      <td>...</td>\n",
       "      <td>...</td>\n",
       "    </tr>\n",
       "    <tr>\n",
       "      <th>68673</th>\n",
       "      <td>1</td>\n",
       "      <td>1</td>\n",
       "      <td>-4.84</td>\n",
       "      <td>9.74</td>\n",
       "      <td>0.60</td>\n",
       "      <td>1.80</td>\n",
       "      <td>3</td>\n",
       "    </tr>\n",
       "    <tr>\n",
       "      <th>68674</th>\n",
       "      <td>1</td>\n",
       "      <td>1</td>\n",
       "      <td>25.69</td>\n",
       "      <td>129.26</td>\n",
       "      <td>0.09</td>\n",
       "      <td>21.33</td>\n",
       "      <td>3</td>\n",
       "    </tr>\n",
       "    <tr>\n",
       "      <th>68675</th>\n",
       "      <td>1</td>\n",
       "      <td>1</td>\n",
       "      <td>-5.05</td>\n",
       "      <td>126.13</td>\n",
       "      <td>0.09</td>\n",
       "      <td>7.04</td>\n",
       "      <td>6</td>\n",
       "    </tr>\n",
       "    <tr>\n",
       "      <th>68676</th>\n",
       "      <td>1</td>\n",
       "      <td>2</td>\n",
       "      <td>7.63</td>\n",
       "      <td>77.71</td>\n",
       "      <td>0.00</td>\n",
       "      <td>3.55</td>\n",
       "      <td>5</td>\n",
       "    </tr>\n",
       "    <tr>\n",
       "      <th>68677</th>\n",
       "      <td>1</td>\n",
       "      <td>6</td>\n",
       "      <td>37.50</td>\n",
       "      <td>777.77</td>\n",
       "      <td>0.30</td>\n",
       "      <td>55.00</td>\n",
       "      <td>2</td>\n",
       "    </tr>\n",
       "  </tbody>\n",
       "</table>\n",
       "<p>68678 rows × 7 columns</p>\n",
       "</div>"
      ],
      "text/plain": [
       "       Returned  Quantity  Profit  Sales  Discount  Ship_Coast  Ship_Duration\n",
       "0             0         2    4.30   8.96      0.00        1.62              5\n",
       "1             0         3   40.23 160.92      0.00       10.98              7\n",
       "2             0         5   76.20 363.30      0.00       37.78              2\n",
       "3             0         2  -34.76 185.38      0.20       28.86              2\n",
       "4             0         2   -8.15 121.93      0.10        5.20              5\n",
       "...         ...       ...     ...    ...       ...         ...            ...\n",
       "68673         1         1   -4.84   9.74      0.60        1.80              3\n",
       "68674         1         1   25.69 129.26      0.09       21.33              3\n",
       "68675         1         1   -5.05 126.13      0.09        7.04              6\n",
       "68676         1         2    7.63  77.71      0.00        3.55              5\n",
       "68677         1         6   37.50 777.77      0.30       55.00              2\n",
       "\n",
       "[68678 rows x 7 columns]"
      ]
     },
     "execution_count": 44,
     "metadata": {},
     "output_type": "execute_result"
    }
   ],
   "source": [
    "df3"
   ]
  },
  {
   "cell_type": "markdown",
   "metadata": {},
   "source": [
    "# Split data in Train and Test datsets"
   ]
  },
  {
   "cell_type": "code",
   "execution_count": 45,
   "metadata": {},
   "outputs": [],
   "source": [
    "train, test = train_test_split(df3, test_size=0.2)\n",
    "Returned_X =train['Returned'] \n",
    "train = train.drop(['Returned'],axis=1)\n",
    "Returned_Y =test['Returned'] \n",
    "test = test.drop(['Returned'],axis=1)"
   ]
  },
  {
   "cell_type": "code",
   "execution_count": 46,
   "metadata": {},
   "outputs": [
    {
     "data": {
      "text/html": [
       "<div>\n",
       "<style scoped>\n",
       "    .dataframe tbody tr th:only-of-type {\n",
       "        vertical-align: middle;\n",
       "    }\n",
       "\n",
       "    .dataframe tbody tr th {\n",
       "        vertical-align: top;\n",
       "    }\n",
       "\n",
       "    .dataframe thead th {\n",
       "        text-align: right;\n",
       "    }\n",
       "</style>\n",
       "<table border=\"1\" class=\"dataframe\">\n",
       "  <thead>\n",
       "    <tr style=\"text-align: right;\">\n",
       "      <th></th>\n",
       "      <th>Quantity</th>\n",
       "      <th>Profit</th>\n",
       "      <th>Sales</th>\n",
       "      <th>Discount</th>\n",
       "      <th>Ship_Coast</th>\n",
       "      <th>Ship_Duration</th>\n",
       "    </tr>\n",
       "  </thead>\n",
       "  <tbody>\n",
       "    <tr>\n",
       "      <th>1182</th>\n",
       "      <td>3</td>\n",
       "      <td>2.97</td>\n",
       "      <td>60.48</td>\n",
       "      <td>0.00</td>\n",
       "      <td>4.58</td>\n",
       "      <td>7</td>\n",
       "    </tr>\n",
       "    <tr>\n",
       "      <th>38029</th>\n",
       "      <td>2</td>\n",
       "      <td>42.91</td>\n",
       "      <td>114.18</td>\n",
       "      <td>0.00</td>\n",
       "      <td>31.52</td>\n",
       "      <td>1</td>\n",
       "    </tr>\n",
       "    <tr>\n",
       "      <th>53724</th>\n",
       "      <td>4</td>\n",
       "      <td>8.33</td>\n",
       "      <td>40.54</td>\n",
       "      <td>0.15</td>\n",
       "      <td>12.23</td>\n",
       "      <td>3</td>\n",
       "    </tr>\n",
       "    <tr>\n",
       "      <th>56753</th>\n",
       "      <td>5</td>\n",
       "      <td>124.79</td>\n",
       "      <td>293.02</td>\n",
       "      <td>0.00</td>\n",
       "      <td>54.55</td>\n",
       "      <td>3</td>\n",
       "    </tr>\n",
       "    <tr>\n",
       "      <th>15425</th>\n",
       "      <td>6</td>\n",
       "      <td>13.50</td>\n",
       "      <td>42.30</td>\n",
       "      <td>0.00</td>\n",
       "      <td>2.87</td>\n",
       "      <td>6</td>\n",
       "    </tr>\n",
       "    <tr>\n",
       "      <th>...</th>\n",
       "      <td>...</td>\n",
       "      <td>...</td>\n",
       "      <td>...</td>\n",
       "      <td>...</td>\n",
       "      <td>...</td>\n",
       "      <td>...</td>\n",
       "    </tr>\n",
       "    <tr>\n",
       "      <th>68317</th>\n",
       "      <td>1</td>\n",
       "      <td>8.64</td>\n",
       "      <td>48.69</td>\n",
       "      <td>0.39</td>\n",
       "      <td>2.39</td>\n",
       "      <td>3</td>\n",
       "    </tr>\n",
       "    <tr>\n",
       "      <th>31739</th>\n",
       "      <td>5</td>\n",
       "      <td>-271.50</td>\n",
       "      <td>424.20</td>\n",
       "      <td>0.50</td>\n",
       "      <td>46.78</td>\n",
       "      <td>4</td>\n",
       "    </tr>\n",
       "    <tr>\n",
       "      <th>57577</th>\n",
       "      <td>1</td>\n",
       "      <td>-0.77</td>\n",
       "      <td>119.47</td>\n",
       "      <td>0.09</td>\n",
       "      <td>12.28</td>\n",
       "      <td>4</td>\n",
       "    </tr>\n",
       "    <tr>\n",
       "      <th>59056</th>\n",
       "      <td>1</td>\n",
       "      <td>4.16</td>\n",
       "      <td>19.26</td>\n",
       "      <td>0.00</td>\n",
       "      <td>1.51</td>\n",
       "      <td>4</td>\n",
       "    </tr>\n",
       "    <tr>\n",
       "      <th>41048</th>\n",
       "      <td>3</td>\n",
       "      <td>-2.06</td>\n",
       "      <td>34.53</td>\n",
       "      <td>0.03</td>\n",
       "      <td>2.23</td>\n",
       "      <td>4</td>\n",
       "    </tr>\n",
       "  </tbody>\n",
       "</table>\n",
       "<p>54942 rows × 6 columns</p>\n",
       "</div>"
      ],
      "text/plain": [
       "       Quantity  Profit  Sales  Discount  Ship_Coast  Ship_Duration\n",
       "1182          3    2.97  60.48      0.00        4.58              7\n",
       "38029         2   42.91 114.18      0.00       31.52              1\n",
       "53724         4    8.33  40.54      0.15       12.23              3\n",
       "56753         5  124.79 293.02      0.00       54.55              3\n",
       "15425         6   13.50  42.30      0.00        2.87              6\n",
       "...         ...     ...    ...       ...         ...            ...\n",
       "68317         1    8.64  48.69      0.39        2.39              3\n",
       "31739         5 -271.50 424.20      0.50       46.78              4\n",
       "57577         1   -0.77 119.47      0.09       12.28              4\n",
       "59056         1    4.16  19.26      0.00        1.51              4\n",
       "41048         3   -2.06  34.53      0.03        2.23              4\n",
       "\n",
       "[54942 rows x 6 columns]"
      ]
     },
     "execution_count": 46,
     "metadata": {},
     "output_type": "execute_result"
    }
   ],
   "source": [
    "train"
   ]
  },
  {
   "cell_type": "code",
   "execution_count": 47,
   "metadata": {},
   "outputs": [
    {
     "data": {
      "text/html": [
       "<div>\n",
       "<style scoped>\n",
       "    .dataframe tbody tr th:only-of-type {\n",
       "        vertical-align: middle;\n",
       "    }\n",
       "\n",
       "    .dataframe tbody tr th {\n",
       "        vertical-align: top;\n",
       "    }\n",
       "\n",
       "    .dataframe thead th {\n",
       "        text-align: right;\n",
       "    }\n",
       "</style>\n",
       "<table border=\"1\" class=\"dataframe\">\n",
       "  <thead>\n",
       "    <tr style=\"text-align: right;\">\n",
       "      <th></th>\n",
       "      <th>Quantity</th>\n",
       "      <th>Profit</th>\n",
       "      <th>Sales</th>\n",
       "      <th>Discount</th>\n",
       "      <th>Ship_Coast</th>\n",
       "      <th>Ship_Duration</th>\n",
       "    </tr>\n",
       "  </thead>\n",
       "  <tbody>\n",
       "    <tr>\n",
       "      <th>25797</th>\n",
       "      <td>3</td>\n",
       "      <td>23.31</td>\n",
       "      <td>155.52</td>\n",
       "      <td>0.00</td>\n",
       "      <td>16.58</td>\n",
       "      <td>2</td>\n",
       "    </tr>\n",
       "    <tr>\n",
       "      <th>10097</th>\n",
       "      <td>5</td>\n",
       "      <td>4.65</td>\n",
       "      <td>236.70</td>\n",
       "      <td>0.00</td>\n",
       "      <td>19.36</td>\n",
       "      <td>4</td>\n",
       "    </tr>\n",
       "    <tr>\n",
       "      <th>54155</th>\n",
       "      <td>1</td>\n",
       "      <td>-10.72</td>\n",
       "      <td>34.71</td>\n",
       "      <td>0.22</td>\n",
       "      <td>9.12</td>\n",
       "      <td>3</td>\n",
       "    </tr>\n",
       "    <tr>\n",
       "      <th>68055</th>\n",
       "      <td>2</td>\n",
       "      <td>21.02</td>\n",
       "      <td>80.67</td>\n",
       "      <td>0.13</td>\n",
       "      <td>13.50</td>\n",
       "      <td>3</td>\n",
       "    </tr>\n",
       "    <tr>\n",
       "      <th>51388</th>\n",
       "      <td>1</td>\n",
       "      <td>-25.60</td>\n",
       "      <td>48.33</td>\n",
       "      <td>0.40</td>\n",
       "      <td>3.38</td>\n",
       "      <td>4</td>\n",
       "    </tr>\n",
       "    <tr>\n",
       "      <th>...</th>\n",
       "      <td>...</td>\n",
       "      <td>...</td>\n",
       "      <td>...</td>\n",
       "      <td>...</td>\n",
       "      <td>...</td>\n",
       "      <td>...</td>\n",
       "    </tr>\n",
       "    <tr>\n",
       "      <th>46869</th>\n",
       "      <td>2</td>\n",
       "      <td>-0.18</td>\n",
       "      <td>37.06</td>\n",
       "      <td>0.14</td>\n",
       "      <td>3.74</td>\n",
       "      <td>4</td>\n",
       "    </tr>\n",
       "    <tr>\n",
       "      <th>54334</th>\n",
       "      <td>2</td>\n",
       "      <td>145.34</td>\n",
       "      <td>428.09</td>\n",
       "      <td>0.00</td>\n",
       "      <td>51.15</td>\n",
       "      <td>3</td>\n",
       "    </tr>\n",
       "    <tr>\n",
       "      <th>49702</th>\n",
       "      <td>10</td>\n",
       "      <td>61.63</td>\n",
       "      <td>501.48</td>\n",
       "      <td>0.20</td>\n",
       "      <td>29.62</td>\n",
       "      <td>4</td>\n",
       "    </tr>\n",
       "    <tr>\n",
       "      <th>36941</th>\n",
       "      <td>3</td>\n",
       "      <td>-95.48</td>\n",
       "      <td>47.02</td>\n",
       "      <td>0.70</td>\n",
       "      <td>6.38</td>\n",
       "      <td>5</td>\n",
       "    </tr>\n",
       "    <tr>\n",
       "      <th>32235</th>\n",
       "      <td>3</td>\n",
       "      <td>4.02</td>\n",
       "      <td>20.10</td>\n",
       "      <td>0.00</td>\n",
       "      <td>2.27</td>\n",
       "      <td>2</td>\n",
       "    </tr>\n",
       "  </tbody>\n",
       "</table>\n",
       "<p>13736 rows × 6 columns</p>\n",
       "</div>"
      ],
      "text/plain": [
       "       Quantity  Profit  Sales  Discount  Ship_Coast  Ship_Duration\n",
       "25797         3   23.31 155.52      0.00       16.58              2\n",
       "10097         5    4.65 236.70      0.00       19.36              4\n",
       "54155         1  -10.72  34.71      0.22        9.12              3\n",
       "68055         2   21.02  80.67      0.13       13.50              3\n",
       "51388         1  -25.60  48.33      0.40        3.38              4\n",
       "...         ...     ...    ...       ...         ...            ...\n",
       "46869         2   -0.18  37.06      0.14        3.74              4\n",
       "54334         2  145.34 428.09      0.00       51.15              3\n",
       "49702        10   61.63 501.48      0.20       29.62              4\n",
       "36941         3  -95.48  47.02      0.70        6.38              5\n",
       "32235         3    4.02  20.10      0.00        2.27              2\n",
       "\n",
       "[13736 rows x 6 columns]"
      ]
     },
     "execution_count": 47,
     "metadata": {},
     "output_type": "execute_result"
    }
   ],
   "source": [
    "test"
   ]
  },
  {
   "cell_type": "code",
   "execution_count": 48,
   "metadata": {},
   "outputs": [
    {
     "data": {
      "text/plain": [
       "27414"
      ]
     },
     "execution_count": 48,
     "metadata": {},
     "output_type": "execute_result"
    }
   ],
   "source": [
    "Returned_X.sum()"
   ]
  },
  {
   "cell_type": "code",
   "execution_count": 49,
   "metadata": {},
   "outputs": [
    {
     "data": {
      "text/plain": [
       "6925"
      ]
     },
     "execution_count": 49,
     "metadata": {},
     "output_type": "execute_result"
    }
   ],
   "source": [
    "Returned_Y.sum()"
   ]
  },
  {
   "cell_type": "markdown",
   "metadata": {},
   "source": [
    "# Xgboost Model"
   ]
  },
  {
   "cell_type": "code",
   "execution_count": 50,
   "metadata": {},
   "outputs": [
    {
     "data": {
      "text/plain": [
       "0.755387303436226"
      ]
     },
     "execution_count": 50,
     "metadata": {},
     "output_type": "execute_result"
    }
   ],
   "source": [
    "gbm = xgb.XGBClassifier(max_depth=2, n_estimators=100, learning_rate=1).fit(train,Returned_X)\n",
    "predictions = gbm.predict(test)\n",
    "accuracy_score(Returned_Y, predictions)"
   ]
  },
  {
   "cell_type": "code",
   "execution_count": 51,
   "metadata": {},
   "outputs": [
    {
     "data": {
      "text/plain": [
       "5533"
      ]
     },
     "execution_count": 51,
     "metadata": {},
     "output_type": "execute_result"
    }
   ],
   "source": [
    "predictions.sum()"
   ]
  },
  {
   "cell_type": "code",
   "execution_count": null,
   "metadata": {},
   "outputs": [],
   "source": [
    "import graphviz\n",
    "fig, ax = plt.subplots(figsize=(100, 100))\n",
    "xgb.plot_tree(gbm, num_trees=4, ax=ax)\n",
    "plt.show()"
   ]
  }
 ],
 "metadata": {
  "colab": {
   "collapsed_sections": [],
   "name": "Atelier_SVM (1).ipynb",
   "provenance": []
  },
  "kernelspec": {
   "display_name": "Python 3 (ipykernel)",
   "language": "python",
   "name": "python3"
  },
  "language_info": {
   "codemirror_mode": {
    "name": "ipython",
    "version": 3
   },
   "file_extension": ".py",
   "mimetype": "text/x-python",
   "name": "python",
   "nbconvert_exporter": "python",
   "pygments_lexer": "ipython3",
   "version": "3.9.12"
  }
 },
 "nbformat": 4,
 "nbformat_minor": 1
}
